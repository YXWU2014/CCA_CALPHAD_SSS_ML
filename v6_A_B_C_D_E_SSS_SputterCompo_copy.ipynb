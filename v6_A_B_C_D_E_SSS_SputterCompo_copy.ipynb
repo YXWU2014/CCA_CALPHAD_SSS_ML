{
 "cells": [
  {
   "cell_type": "code",
   "execution_count": 38,
   "metadata": {},
   "outputs": [
    {
     "name": "stdout",
     "output_type": "stream",
     "text": [
      "Current working directory: /Users/ywu/InSync/2021_MPIE/2021-12_H Diffusion/Matlab Toolbox HEA/v6_A-B-C-D-E_Sputtering/CCA_CALPHAD_SSS_ML\n",
      "Source folder: /Users/ywu/InSync/2021_MPIE/2021-12_H Diffusion/Matlab Toolbox HEA/v6_A-B-C-D-E_Sputtering\n",
      "Destination folder: /Users/ywu/InSync/2021_MPIE/2021-12_H Diffusion/Matlab Toolbox HEA/v6_A-B-C-D-E_Sputtering/CCA_CALPHAD_SSS_ML/v6_A-B-C-D-E_Sputtering_ML\n"
     ]
    }
   ],
   "source": [
    "import os\n",
    "import shutil\n",
    "from itertools import combinations\n",
    "import numpy as np\n",
    "import pandas as pd\n",
    "from tqdm import tqdm\n",
    "\n",
    "current_directory = os.getcwd()\n",
    "print(\"Current working directory:\", current_directory)\n",
    "\n",
    "source_folder = '../'\n",
    "print(\"Source folder:\", os.path.abspath(source_folder))\n",
    "\n",
    "dst_folder = './v6_A-B-C-D-E_Sputtering_ML/'\n",
    "print(\"Destination folder:\", os.path.abspath(dst_folder))"
   ]
  },
  {
   "cell_type": "code",
   "execution_count": 39,
   "metadata": {},
   "outputs": [
    {
     "name": "stdout",
     "output_type": "stream",
     "text": [
      "('Co', 'V')\n"
     ]
    }
   ],
   "source": [
    "comb_D_E = list(combinations(\n",
    "    ['Co', 'V', 'Mn', 'Mo', 'Cu', 'Nb', 'W', 'Ti', 'Al', 'Si', 'Ta'], 2))\n",
    "print(comb_D_E[0])"
   ]
  },
  {
   "cell_type": "markdown",
   "metadata": {},
   "source": [
    "### Move the CALPHAD generated files to the new folder\n",
    "\n",
    "1. in at%\n",
    "2. in wt%\n"
   ]
  },
  {
   "cell_type": "code",
   "execution_count": 40,
   "metadata": {},
   "outputs": [
    {
     "name": "stderr",
     "output_type": "stream",
     "text": [
      "  0%|          | 0/55 [00:00<?, ?it/s]"
     ]
    },
    {
     "name": "stdout",
     "output_type": "stream",
     "text": [
      "Fe_Cr_Ni_Co_V\n",
      "Fe_Cr_Ni_Co_V: File exists!\n"
     ]
    },
    {
     "name": "stderr",
     "output_type": "stream",
     "text": [
      "Exception ignored in: <function ZipFile.__del__ at 0x101dbe430>\n",
      "Traceback (most recent call last):\n",
      "  File \"/Users/ywu/opt/anaconda3/envs/tf-env/lib/python3.9/zipfile.py\", line 1816, in __del__\n",
      "    self.close()\n",
      "  File \"/Users/ywu/opt/anaconda3/envs/tf-env/lib/python3.9/zipfile.py\", line 1833, in close\n",
      "    self.fp.seek(self.start_dir)\n",
      "ValueError: seek of closed file\n",
      "  2%|▏         | 1/55 [00:08<07:15,  8.06s/it]"
     ]
    },
    {
     "name": "stdout",
     "output_type": "stream",
     "text": [
      "Fe_Cr_Ni_Co_V: File copied successfully!\n",
      "\n",
      "Fe_Cr_Ni_Co_Mn\n",
      "Fe_Cr_Ni_Co_Mn: File exists!\n"
     ]
    },
    {
     "name": "stderr",
     "output_type": "stream",
     "text": [
      "  4%|▎         | 2/55 [00:15<06:49,  7.72s/it]"
     ]
    },
    {
     "name": "stdout",
     "output_type": "stream",
     "text": [
      "Fe_Cr_Ni_Co_Mn: File copied successfully!\n",
      "\n",
      "Fe_Cr_Ni_Co_Mo\n",
      "Fe_Cr_Ni_Co_Mo: File exists!\n"
     ]
    },
    {
     "name": "stderr",
     "output_type": "stream",
     "text": [
      "  5%|▌         | 3/55 [00:22<06:28,  7.47s/it]"
     ]
    },
    {
     "name": "stdout",
     "output_type": "stream",
     "text": [
      "Fe_Cr_Ni_Co_Mo: File copied successfully!\n",
      "\n",
      "Fe_Cr_Ni_Co_Cu\n",
      "Fe_Cr_Ni_Co_Cu: File exists!\n"
     ]
    },
    {
     "name": "stderr",
     "output_type": "stream",
     "text": [
      "  7%|▋         | 4/55 [00:30<06:25,  7.56s/it]"
     ]
    },
    {
     "name": "stdout",
     "output_type": "stream",
     "text": [
      "Fe_Cr_Ni_Co_Cu: File copied successfully!\n",
      "\n",
      "Fe_Cr_Ni_Co_Nb\n",
      "Fe_Cr_Ni_Co_Nb: File exists!\n"
     ]
    },
    {
     "name": "stderr",
     "output_type": "stream",
     "text": [
      "  9%|▉         | 5/55 [00:37<06:16,  7.53s/it]"
     ]
    },
    {
     "name": "stdout",
     "output_type": "stream",
     "text": [
      "Fe_Cr_Ni_Co_Nb: File copied successfully!\n",
      "\n",
      "Fe_Cr_Ni_Co_W\n",
      "Fe_Cr_Ni_Co_W: File exists!\n"
     ]
    },
    {
     "name": "stderr",
     "output_type": "stream",
     "text": [
      " 11%|█         | 6/55 [00:45<06:07,  7.50s/it]"
     ]
    },
    {
     "name": "stdout",
     "output_type": "stream",
     "text": [
      "Fe_Cr_Ni_Co_W: File copied successfully!\n",
      "\n",
      "Fe_Cr_Ni_Co_Ti\n",
      "Fe_Cr_Ni_Co_Ti: File exists!\n"
     ]
    },
    {
     "name": "stderr",
     "output_type": "stream",
     "text": [
      " 13%|█▎        | 7/55 [00:52<05:54,  7.38s/it]"
     ]
    },
    {
     "name": "stdout",
     "output_type": "stream",
     "text": [
      "Fe_Cr_Ni_Co_Ti: File copied successfully!\n",
      "\n",
      "Fe_Cr_Ni_Co_Al\n",
      "Fe_Cr_Ni_Co_Al: File exists!\n"
     ]
    },
    {
     "name": "stderr",
     "output_type": "stream",
     "text": [
      " 15%|█▍        | 8/55 [00:59<05:48,  7.42s/it]"
     ]
    },
    {
     "name": "stdout",
     "output_type": "stream",
     "text": [
      "Fe_Cr_Ni_Co_Al: File copied successfully!\n",
      "\n",
      "Fe_Cr_Ni_Co_Si\n",
      "Fe_Cr_Ni_Co_Si: File exists!\n"
     ]
    },
    {
     "name": "stderr",
     "output_type": "stream",
     "text": [
      " 16%|█▋        | 9/55 [01:07<05:47,  7.56s/it]"
     ]
    },
    {
     "name": "stdout",
     "output_type": "stream",
     "text": [
      "Fe_Cr_Ni_Co_Si: File copied successfully!\n",
      "\n",
      "Fe_Cr_Ni_Co_Ta\n",
      "Fe_Cr_Ni_Co_Ta: File exists!\n"
     ]
    },
    {
     "name": "stderr",
     "output_type": "stream",
     "text": [
      " 18%|█▊        | 10/55 [01:15<05:42,  7.61s/it]"
     ]
    },
    {
     "name": "stdout",
     "output_type": "stream",
     "text": [
      "Fe_Cr_Ni_Co_Ta: File copied successfully!\n",
      "\n",
      "Fe_Cr_Ni_V_Mn\n",
      "Fe_Cr_Ni_V_Mn: File exists!\n"
     ]
    },
    {
     "name": "stderr",
     "output_type": "stream",
     "text": [
      " 20%|██        | 11/55 [01:23<05:38,  7.69s/it]"
     ]
    },
    {
     "name": "stdout",
     "output_type": "stream",
     "text": [
      "Fe_Cr_Ni_V_Mn: File copied successfully!\n",
      "\n",
      "Fe_Cr_Ni_V_Mo\n",
      "Fe_Cr_Ni_V_Mo: File exists!\n"
     ]
    },
    {
     "name": "stderr",
     "output_type": "stream",
     "text": [
      " 22%|██▏       | 12/55 [01:30<05:23,  7.53s/it]"
     ]
    },
    {
     "name": "stdout",
     "output_type": "stream",
     "text": [
      "Fe_Cr_Ni_V_Mo: File copied successfully!\n",
      "\n",
      "Fe_Cr_Ni_V_Cu\n",
      "Fe_Cr_Ni_V_Cu: File exists!\n"
     ]
    },
    {
     "name": "stderr",
     "output_type": "stream",
     "text": [
      " 24%|██▎       | 13/55 [01:37<05:13,  7.47s/it]"
     ]
    },
    {
     "name": "stdout",
     "output_type": "stream",
     "text": [
      "Fe_Cr_Ni_V_Cu: File copied successfully!\n",
      "\n",
      "Fe_Cr_Ni_V_Nb\n",
      "Fe_Cr_Ni_V_Nb: File exists!\n"
     ]
    },
    {
     "name": "stderr",
     "output_type": "stream",
     "text": [
      " 25%|██▌       | 14/55 [01:45<05:04,  7.43s/it]"
     ]
    },
    {
     "name": "stdout",
     "output_type": "stream",
     "text": [
      "Fe_Cr_Ni_V_Nb: File copied successfully!\n",
      "\n",
      "Fe_Cr_Ni_V_W\n",
      "Fe_Cr_Ni_V_W: File exists!\n"
     ]
    },
    {
     "name": "stderr",
     "output_type": "stream",
     "text": [
      " 27%|██▋       | 15/55 [01:52<04:58,  7.45s/it]"
     ]
    },
    {
     "name": "stdout",
     "output_type": "stream",
     "text": [
      "Fe_Cr_Ni_V_W: File copied successfully!\n",
      "\n",
      "Fe_Cr_Ni_V_Ti\n",
      "Fe_Cr_Ni_V_Ti: File exists!\n"
     ]
    },
    {
     "name": "stderr",
     "output_type": "stream",
     "text": [
      " 29%|██▉       | 16/55 [02:00<04:51,  7.48s/it]"
     ]
    },
    {
     "name": "stdout",
     "output_type": "stream",
     "text": [
      "Fe_Cr_Ni_V_Ti: File copied successfully!\n",
      "\n",
      "Fe_Cr_Ni_V_Al\n",
      "Fe_Cr_Ni_V_Al: File exists!\n"
     ]
    },
    {
     "name": "stderr",
     "output_type": "stream",
     "text": [
      " 31%|███       | 17/55 [02:07<04:44,  7.50s/it]"
     ]
    },
    {
     "name": "stdout",
     "output_type": "stream",
     "text": [
      "Fe_Cr_Ni_V_Al: File copied successfully!\n",
      "\n",
      "Fe_Cr_Ni_V_Si\n",
      "Fe_Cr_Ni_V_Si: File exists!\n"
     ]
    },
    {
     "name": "stderr",
     "output_type": "stream",
     "text": [
      " 33%|███▎      | 18/55 [02:15<04:39,  7.55s/it]"
     ]
    },
    {
     "name": "stdout",
     "output_type": "stream",
     "text": [
      "Fe_Cr_Ni_V_Si: File copied successfully!\n",
      "\n",
      "Fe_Cr_Ni_V_Ta\n",
      "Fe_Cr_Ni_V_Ta: File exists!\n"
     ]
    },
    {
     "name": "stderr",
     "output_type": "stream",
     "text": [
      " 35%|███▍      | 19/55 [02:22<04:30,  7.52s/it]"
     ]
    },
    {
     "name": "stdout",
     "output_type": "stream",
     "text": [
      "Fe_Cr_Ni_V_Ta: File copied successfully!\n",
      "\n",
      "Fe_Cr_Ni_Mn_Mo\n",
      "Fe_Cr_Ni_Mn_Mo: File exists!\n"
     ]
    },
    {
     "name": "stderr",
     "output_type": "stream",
     "text": [
      " 36%|███▋      | 20/55 [02:30<04:28,  7.66s/it]"
     ]
    },
    {
     "name": "stdout",
     "output_type": "stream",
     "text": [
      "Fe_Cr_Ni_Mn_Mo: File copied successfully!\n",
      "\n",
      "Fe_Cr_Ni_Mn_Cu\n",
      "Fe_Cr_Ni_Mn_Cu: File exists!\n"
     ]
    },
    {
     "name": "stderr",
     "output_type": "stream",
     "text": [
      " 38%|███▊      | 21/55 [02:38<04:19,  7.63s/it]"
     ]
    },
    {
     "name": "stdout",
     "output_type": "stream",
     "text": [
      "Fe_Cr_Ni_Mn_Cu: File copied successfully!\n",
      "\n",
      "Fe_Cr_Ni_Mn_Nb\n",
      "Fe_Cr_Ni_Mn_Nb: File exists!\n"
     ]
    },
    {
     "name": "stderr",
     "output_type": "stream",
     "text": [
      " 40%|████      | 22/55 [02:45<04:06,  7.47s/it]"
     ]
    },
    {
     "name": "stdout",
     "output_type": "stream",
     "text": [
      "Fe_Cr_Ni_Mn_Nb: File copied successfully!\n",
      "\n",
      "Fe_Cr_Ni_Mn_W\n",
      "Fe_Cr_Ni_Mn_W: File exists!\n"
     ]
    },
    {
     "name": "stderr",
     "output_type": "stream",
     "text": [
      " 42%|████▏     | 23/55 [02:53<03:59,  7.49s/it]"
     ]
    },
    {
     "name": "stdout",
     "output_type": "stream",
     "text": [
      "Fe_Cr_Ni_Mn_W: File copied successfully!\n",
      "\n",
      "Fe_Cr_Ni_Mn_Ti\n",
      "Fe_Cr_Ni_Mn_Ti: File exists!\n"
     ]
    },
    {
     "name": "stderr",
     "output_type": "stream",
     "text": [
      " 44%|████▎     | 24/55 [03:01<03:57,  7.66s/it]"
     ]
    },
    {
     "name": "stdout",
     "output_type": "stream",
     "text": [
      "Fe_Cr_Ni_Mn_Ti: File copied successfully!\n",
      "\n",
      "Fe_Cr_Ni_Mn_Al\n",
      "Fe_Cr_Ni_Mn_Al: File exists!\n"
     ]
    },
    {
     "name": "stderr",
     "output_type": "stream",
     "text": [
      " 45%|████▌     | 25/55 [03:08<03:48,  7.61s/it]"
     ]
    },
    {
     "name": "stdout",
     "output_type": "stream",
     "text": [
      "Fe_Cr_Ni_Mn_Al: File copied successfully!\n",
      "\n",
      "Fe_Cr_Ni_Mn_Si\n",
      "Fe_Cr_Ni_Mn_Si: File exists!\n"
     ]
    },
    {
     "name": "stderr",
     "output_type": "stream",
     "text": [
      " 47%|████▋     | 26/55 [03:16<03:43,  7.70s/it]"
     ]
    },
    {
     "name": "stdout",
     "output_type": "stream",
     "text": [
      "Fe_Cr_Ni_Mn_Si: File copied successfully!\n",
      "\n",
      "Fe_Cr_Ni_Mn_Ta\n",
      "Fe_Cr_Ni_Mn_Ta: File exists!\n"
     ]
    },
    {
     "name": "stderr",
     "output_type": "stream",
     "text": [
      " 49%|████▉     | 27/55 [03:24<03:35,  7.71s/it]"
     ]
    },
    {
     "name": "stdout",
     "output_type": "stream",
     "text": [
      "Fe_Cr_Ni_Mn_Ta: File copied successfully!\n",
      "\n",
      "Fe_Cr_Ni_Mo_Cu\n",
      "Fe_Cr_Ni_Mo_Cu: File exists!\n"
     ]
    },
    {
     "name": "stderr",
     "output_type": "stream",
     "text": [
      " 51%|█████     | 28/55 [03:31<03:23,  7.55s/it]"
     ]
    },
    {
     "name": "stdout",
     "output_type": "stream",
     "text": [
      "Fe_Cr_Ni_Mo_Cu: File copied successfully!\n",
      "\n",
      "Fe_Cr_Ni_Mo_Nb\n",
      "Fe_Cr_Ni_Mo_Nb: File exists!\n"
     ]
    },
    {
     "name": "stderr",
     "output_type": "stream",
     "text": [
      " 53%|█████▎    | 29/55 [03:38<03:12,  7.40s/it]"
     ]
    },
    {
     "name": "stdout",
     "output_type": "stream",
     "text": [
      "Fe_Cr_Ni_Mo_Nb: File copied successfully!\n",
      "\n",
      "Fe_Cr_Ni_Mo_W\n",
      "Fe_Cr_Ni_Mo_W: File exists!\n"
     ]
    },
    {
     "name": "stderr",
     "output_type": "stream",
     "text": [
      " 55%|█████▍    | 30/55 [03:45<03:04,  7.36s/it]"
     ]
    },
    {
     "name": "stdout",
     "output_type": "stream",
     "text": [
      "Fe_Cr_Ni_Mo_W: File copied successfully!\n",
      "\n",
      "Fe_Cr_Ni_Mo_Ti\n",
      "Fe_Cr_Ni_Mo_Ti: File exists!\n"
     ]
    },
    {
     "name": "stderr",
     "output_type": "stream",
     "text": [
      " 56%|█████▋    | 31/55 [03:53<02:55,  7.30s/it]"
     ]
    },
    {
     "name": "stdout",
     "output_type": "stream",
     "text": [
      "Fe_Cr_Ni_Mo_Ti: File copied successfully!\n",
      "\n",
      "Fe_Cr_Ni_Mo_Al\n",
      "Fe_Cr_Ni_Mo_Al: File exists!\n"
     ]
    },
    {
     "name": "stderr",
     "output_type": "stream",
     "text": [
      " 58%|█████▊    | 32/55 [04:00<02:47,  7.29s/it]"
     ]
    },
    {
     "name": "stdout",
     "output_type": "stream",
     "text": [
      "Fe_Cr_Ni_Mo_Al: File copied successfully!\n",
      "\n",
      "Fe_Cr_Ni_Mo_Si\n",
      "Fe_Cr_Ni_Mo_Si: File exists!\n"
     ]
    },
    {
     "name": "stderr",
     "output_type": "stream",
     "text": [
      " 60%|██████    | 33/55 [04:07<02:39,  7.25s/it]"
     ]
    },
    {
     "name": "stdout",
     "output_type": "stream",
     "text": [
      "Fe_Cr_Ni_Mo_Si: File copied successfully!\n",
      "\n",
      "Fe_Cr_Ni_Mo_Ta\n",
      "Fe_Cr_Ni_Mo_Ta: File exists!\n"
     ]
    },
    {
     "name": "stderr",
     "output_type": "stream",
     "text": [
      " 62%|██████▏   | 34/55 [04:14<02:33,  7.31s/it]"
     ]
    },
    {
     "name": "stdout",
     "output_type": "stream",
     "text": [
      "Fe_Cr_Ni_Mo_Ta: File copied successfully!\n",
      "\n",
      "Fe_Cr_Ni_Cu_Nb\n",
      "Fe_Cr_Ni_Cu_Nb: File exists!\n"
     ]
    },
    {
     "name": "stderr",
     "output_type": "stream",
     "text": [
      " 64%|██████▎   | 35/55 [04:22<02:26,  7.31s/it]"
     ]
    },
    {
     "name": "stdout",
     "output_type": "stream",
     "text": [
      "Fe_Cr_Ni_Cu_Nb: File copied successfully!\n",
      "\n",
      "Fe_Cr_Ni_Cu_W\n",
      "Fe_Cr_Ni_Cu_W: File exists!\n"
     ]
    },
    {
     "name": "stderr",
     "output_type": "stream",
     "text": [
      " 65%|██████▌   | 36/55 [04:30<02:21,  7.47s/it]"
     ]
    },
    {
     "name": "stdout",
     "output_type": "stream",
     "text": [
      "Fe_Cr_Ni_Cu_W: File copied successfully!\n",
      "\n",
      "Fe_Cr_Ni_Cu_Ti\n",
      "Fe_Cr_Ni_Cu_Ti: File exists!\n"
     ]
    },
    {
     "name": "stderr",
     "output_type": "stream",
     "text": [
      " 67%|██████▋   | 37/55 [04:37<02:14,  7.48s/it]"
     ]
    },
    {
     "name": "stdout",
     "output_type": "stream",
     "text": [
      "Fe_Cr_Ni_Cu_Ti: File copied successfully!\n",
      "\n",
      "Fe_Cr_Ni_Cu_Al\n",
      "Fe_Cr_Ni_Cu_Al: File exists!\n"
     ]
    },
    {
     "name": "stderr",
     "output_type": "stream",
     "text": [
      " 69%|██████▉   | 38/55 [04:45<02:07,  7.50s/it]"
     ]
    },
    {
     "name": "stdout",
     "output_type": "stream",
     "text": [
      "Fe_Cr_Ni_Cu_Al: File copied successfully!\n",
      "\n",
      "Fe_Cr_Ni_Cu_Si\n",
      "Fe_Cr_Ni_Cu_Si: File exists!\n"
     ]
    },
    {
     "name": "stderr",
     "output_type": "stream",
     "text": [
      " 71%|███████   | 39/55 [04:52<01:58,  7.38s/it]"
     ]
    },
    {
     "name": "stdout",
     "output_type": "stream",
     "text": [
      "Fe_Cr_Ni_Cu_Si: File copied successfully!\n",
      "\n",
      "Fe_Cr_Ni_Cu_Ta\n",
      "Fe_Cr_Ni_Cu_Ta: File exists!\n"
     ]
    },
    {
     "name": "stderr",
     "output_type": "stream",
     "text": [
      " 73%|███████▎  | 40/55 [04:59<01:50,  7.35s/it]"
     ]
    },
    {
     "name": "stdout",
     "output_type": "stream",
     "text": [
      "Fe_Cr_Ni_Cu_Ta: File copied successfully!\n",
      "\n",
      "Fe_Cr_Ni_Nb_W\n",
      "Fe_Cr_Ni_Nb_W: File exists!\n"
     ]
    },
    {
     "name": "stderr",
     "output_type": "stream",
     "text": [
      " 75%|███████▍  | 41/55 [05:06<01:42,  7.35s/it]"
     ]
    },
    {
     "name": "stdout",
     "output_type": "stream",
     "text": [
      "Fe_Cr_Ni_Nb_W: File copied successfully!\n",
      "\n",
      "Fe_Cr_Ni_Nb_Ti\n",
      "Fe_Cr_Ni_Nb_Ti: File exists!\n"
     ]
    },
    {
     "name": "stderr",
     "output_type": "stream",
     "text": [
      " 76%|███████▋  | 42/55 [05:14<01:37,  7.51s/it]"
     ]
    },
    {
     "name": "stdout",
     "output_type": "stream",
     "text": [
      "Fe_Cr_Ni_Nb_Ti: File copied successfully!\n",
      "\n",
      "Fe_Cr_Ni_Nb_Al\n",
      "Fe_Cr_Ni_Nb_Al: File exists!\n"
     ]
    },
    {
     "name": "stderr",
     "output_type": "stream",
     "text": [
      " 78%|███████▊  | 43/55 [05:22<01:30,  7.55s/it]"
     ]
    },
    {
     "name": "stdout",
     "output_type": "stream",
     "text": [
      "Fe_Cr_Ni_Nb_Al: File copied successfully!\n",
      "\n",
      "Fe_Cr_Ni_Nb_Si\n",
      "Fe_Cr_Ni_Nb_Si: File exists!\n"
     ]
    },
    {
     "name": "stderr",
     "output_type": "stream",
     "text": [
      " 80%|████████  | 44/55 [05:30<01:26,  7.88s/it]"
     ]
    },
    {
     "name": "stdout",
     "output_type": "stream",
     "text": [
      "Fe_Cr_Ni_Nb_Si: File copied successfully!\n",
      "\n",
      "Fe_Cr_Ni_Nb_Ta\n",
      "Fe_Cr_Ni_Nb_Ta: File exists!\n"
     ]
    },
    {
     "name": "stderr",
     "output_type": "stream",
     "text": [
      " 82%|████████▏ | 45/55 [05:39<01:19,  7.98s/it]"
     ]
    },
    {
     "name": "stdout",
     "output_type": "stream",
     "text": [
      "Fe_Cr_Ni_Nb_Ta: File copied successfully!\n",
      "\n",
      "Fe_Cr_Ni_W_Ti\n",
      "Fe_Cr_Ni_W_Ti: File exists!\n"
     ]
    },
    {
     "name": "stderr",
     "output_type": "stream",
     "text": [
      " 84%|████████▎ | 46/55 [05:46<01:10,  7.85s/it]"
     ]
    },
    {
     "name": "stdout",
     "output_type": "stream",
     "text": [
      "Fe_Cr_Ni_W_Ti: File copied successfully!\n",
      "\n",
      "Fe_Cr_Ni_W_Al\n",
      "Fe_Cr_Ni_W_Al: File exists!\n"
     ]
    },
    {
     "name": "stderr",
     "output_type": "stream",
     "text": [
      " 85%|████████▌ | 47/55 [05:54<01:01,  7.68s/it]"
     ]
    },
    {
     "name": "stdout",
     "output_type": "stream",
     "text": [
      "Fe_Cr_Ni_W_Al: File copied successfully!\n",
      "\n",
      "Fe_Cr_Ni_W_Si\n",
      "Fe_Cr_Ni_W_Si: File exists!\n"
     ]
    },
    {
     "name": "stderr",
     "output_type": "stream",
     "text": [
      " 87%|████████▋ | 48/55 [06:01<00:53,  7.64s/it]"
     ]
    },
    {
     "name": "stdout",
     "output_type": "stream",
     "text": [
      "Fe_Cr_Ni_W_Si: File copied successfully!\n",
      "\n",
      "Fe_Cr_Ni_W_Ta\n",
      "Fe_Cr_Ni_W_Ta: File exists!\n"
     ]
    },
    {
     "name": "stderr",
     "output_type": "stream",
     "text": [
      " 89%|████████▉ | 49/55 [06:09<00:45,  7.58s/it]"
     ]
    },
    {
     "name": "stdout",
     "output_type": "stream",
     "text": [
      "Fe_Cr_Ni_W_Ta: File copied successfully!\n",
      "\n",
      "Fe_Cr_Ni_Ti_Al\n",
      "Fe_Cr_Ni_Ti_Al: File exists!\n"
     ]
    },
    {
     "name": "stderr",
     "output_type": "stream",
     "text": [
      " 91%|█████████ | 50/55 [06:16<00:37,  7.52s/it]"
     ]
    },
    {
     "name": "stdout",
     "output_type": "stream",
     "text": [
      "Fe_Cr_Ni_Ti_Al: File copied successfully!\n",
      "\n",
      "Fe_Cr_Ni_Ti_Si\n",
      "Fe_Cr_Ni_Ti_Si: File exists!\n"
     ]
    },
    {
     "name": "stderr",
     "output_type": "stream",
     "text": [
      " 93%|█████████▎| 51/55 [06:23<00:29,  7.33s/it]"
     ]
    },
    {
     "name": "stdout",
     "output_type": "stream",
     "text": [
      "Fe_Cr_Ni_Ti_Si: File copied successfully!\n",
      "\n",
      "Fe_Cr_Ni_Ti_Ta\n",
      "Fe_Cr_Ni_Ti_Ta: File exists!\n"
     ]
    },
    {
     "name": "stderr",
     "output_type": "stream",
     "text": [
      " 95%|█████████▍| 52/55 [06:30<00:21,  7.20s/it]"
     ]
    },
    {
     "name": "stdout",
     "output_type": "stream",
     "text": [
      "Fe_Cr_Ni_Ti_Ta: File copied successfully!\n",
      "\n",
      "Fe_Cr_Ni_Al_Si\n",
      "Fe_Cr_Ni_Al_Si: File exists!\n"
     ]
    },
    {
     "name": "stderr",
     "output_type": "stream",
     "text": [
      " 96%|█████████▋| 53/55 [06:36<00:14,  7.07s/it]"
     ]
    },
    {
     "name": "stdout",
     "output_type": "stream",
     "text": [
      "Fe_Cr_Ni_Al_Si: File copied successfully!\n",
      "\n",
      "Fe_Cr_Ni_Al_Ta\n",
      "Fe_Cr_Ni_Al_Ta: File exists!\n"
     ]
    },
    {
     "name": "stderr",
     "output_type": "stream",
     "text": [
      " 98%|█████████▊| 54/55 [06:43<00:07,  7.02s/it]"
     ]
    },
    {
     "name": "stdout",
     "output_type": "stream",
     "text": [
      "Fe_Cr_Ni_Al_Ta: File copied successfully!\n",
      "\n",
      "Fe_Cr_Ni_Si_Ta\n",
      "Fe_Cr_Ni_Si_Ta: File exists!\n"
     ]
    },
    {
     "name": "stderr",
     "output_type": "stream",
     "text": [
      "100%|██████████| 55/55 [06:50<00:00,  7.47s/it]"
     ]
    },
    {
     "name": "stdout",
     "output_type": "stream",
     "text": [
      "Fe_Cr_Ni_Si_Ta: File copied successfully!\n",
      "\n"
     ]
    },
    {
     "name": "stderr",
     "output_type": "stream",
     "text": [
      "\n"
     ]
    }
   ],
   "source": [
    "for comb in tqdm(comb_D_E):\n",
    "\n",
    "    comb_A_B_C_D_E_temp = 'Fe_Cr_Ni_' + comb[0] + '_' + comb[1]\n",
    "    print(comb_A_B_C_D_E_temp)\n",
    "\n",
    "    # Define the source directory -----------------------------------\n",
    "    source_subfolder = 'v6_' + comb_A_B_C_D_E_temp + '_Sputtering'\n",
    "    source_file = os.path.join(\n",
    "        source_folder, source_subfolder, 'SSS_FCC_byCompo.xlsx')\n",
    "\n",
    "    # print('Source file directory:', os.path.abspath(source_file))\n",
    "\n",
    "    if os.path.isfile(source_file):\n",
    "        print(comb_A_B_C_D_E_temp + ': File exists!')\n",
    "    else:\n",
    "        print(comb_A_B_C_D_E_temp + ': File does not exist.')\n",
    "    # ----------------------------------------------------------------\n",
    "\n",
    "    # read the source file and convert to at.% -----------------------\n",
    "    df_raw = pd.read_excel(source_file)\n",
    "    # display(df_raw.head())\n",
    "    # copy the df_raw\n",
    "    df_raw_at = df_raw.copy()\n",
    "\n",
    "    df_raw_at['Fe'] = df_raw_at['Fe'] * 100\n",
    "    df_raw_at['Cr'] = df_raw_at['Cr'] * 100\n",
    "    df_raw_at['Ni'] = df_raw_at['Ni'] * 100\n",
    "    df_raw_at[comb[0]] = df_raw_at[comb[0]] * 100\n",
    "    df_raw_at[comb[1]] = df_raw_at[comb[1]] * 100\n",
    "\n",
    "    # display(df_raw_at.head())\n",
    "    # ----------------------------------------------------------------\n",
    "\n",
    "    # read the source file and convert to wt.% -----------------------\n",
    "    df_raw_wt = df_raw.copy()\n",
    "\n",
    "    ele_A = 'Fe'\n",
    "    ele_B = 'Cr'\n",
    "    ele_C = 'Ni'\n",
    "    ele_D = comb[0]\n",
    "    ele_E = comb[1]\n",
    "\n",
    "    ele_all = ['Fe', 'Cr', 'Ni', 'Co', 'V', 'Mn',\n",
    "               'Mo', 'Cu', 'Nb', 'W', 'Ti', 'Al', 'Si', 'Ta']\n",
    "\n",
    "    ele_indices = [ele_all.index(ele)\n",
    "                   for ele in [ele_A, ele_B, ele_C, ele_D, ele_E]]\n",
    "    # print(ele_indices)\n",
    "\n",
    "    # Define the atomic weights of all elements\n",
    "    atomic_wt_all = np.array([55.847, 51.996, 58.70, 58.9332, 50.9415, 54.9380, 95.94, 63.546, 92.9064, 183.85, 47.90,\n",
    "                              26.98154, 28.0855, 180.9479])  # Source: https://www.angelo.edu/faculty/kboudrea/periodic/structure_mass.htm\n",
    "\n",
    "    # Extract the atomic weights of the elements in A, B, C, D, and E\n",
    "    atomic_wt_ABCDE = atomic_wt_all[ele_indices]\n",
    "\n",
    "    # Calculate the total atomic weight of each composition\n",
    "    total_atomic_wt = np.sum(df_raw_wt.loc[:, [\n",
    "        ele_A, ele_B, ele_C, ele_D, ele_E]].values * atomic_wt_ABCDE, axis=1)\n",
    "    # display(total_atomic_wt)\n",
    "\n",
    "    # Calculate the weight percentages of each element for each composition\n",
    "    df_raw_wt.loc[:, ele_A] = df_raw_wt.loc[:, ele_A] * \\\n",
    "        atomic_wt_ABCDE[0] / total_atomic_wt * 100\n",
    "    df_raw_wt.loc[:, ele_B] = df_raw_wt.loc[:, ele_B] * \\\n",
    "        atomic_wt_ABCDE[1] / total_atomic_wt * 100\n",
    "    df_raw_wt.loc[:, ele_C] = df_raw_wt.loc[:, ele_C] * \\\n",
    "        atomic_wt_ABCDE[2] / total_atomic_wt * 100\n",
    "    df_raw_wt.loc[:, ele_D] = df_raw_wt.loc[:, ele_D] * \\\n",
    "        atomic_wt_ABCDE[3] / total_atomic_wt * 100\n",
    "    df_raw_wt.loc[:, ele_E] = df_raw_wt.loc[:, ele_E] * \\\n",
    "        atomic_wt_ABCDE[4] / total_atomic_wt * 100\n",
    "\n",
    "    # display(df_raw_wt.head())\n",
    "    # display(df_raw_wt.tail())\n",
    "    # ----------------------------------------------------------------\n",
    "\n",
    "    # Define the destination directory and to_excel ------------------\n",
    "    dst_subfolder = 'v6_A-B-C-D-E_Sputtering_ML_All'\n",
    "    dst_file_at = os.path.join(\n",
    "        dst_folder, dst_subfolder, 'v6_' + comb_A_B_C_D_E_temp + '_SSS_FCC_byCompo_at_pct.xlsx')\n",
    "    dst_file_wt = os.path.join(\n",
    "        dst_folder, dst_subfolder, 'v6_' + comb_A_B_C_D_E_temp + '_SSS_FCC_byCompo_wt_pct.xlsx')\n",
    "    # print('Destination file directory:', os.path.abspath(dst_file_at))\n",
    "    # print('Destination file directory:', os.path.abspath(dst_file_wt))\n",
    "    df_raw_at.to_excel(dst_file_at, index=False)\n",
    "    df_raw_wt.to_excel(dst_file_wt, index=False)\n",
    "    print(comb_A_B_C_D_E_temp + ': File copied successfully!')\n",
    "    # ----------------------------------------------------------------\n",
    "\n",
    "    # # Copy the file\n",
    "    # try:\n",
    "    #     # Copy the file to the destination directory\n",
    "    #     shutil.copyfile(source_file, dst_file_at)\n",
    "    #     print(comb_A_B_C_D_E_temp + ': File copied successfully!')\n",
    "    #     print(\"\")\n",
    "    # except Exception as e:\n",
    "    #     print('Error copying file: ' + str(e))"
   ]
  }
 ],
 "metadata": {
  "kernelspec": {
   "display_name": "tf-env",
   "language": "python",
   "name": "python3"
  },
  "language_info": {
   "codemirror_mode": {
    "name": "ipython",
    "version": 3
   },
   "file_extension": ".py",
   "mimetype": "text/x-python",
   "name": "python",
   "nbconvert_exporter": "python",
   "pygments_lexer": "ipython3",
   "version": "3.9.16"
  },
  "orig_nbformat": 4
 },
 "nbformat": 4,
 "nbformat_minor": 2
}
