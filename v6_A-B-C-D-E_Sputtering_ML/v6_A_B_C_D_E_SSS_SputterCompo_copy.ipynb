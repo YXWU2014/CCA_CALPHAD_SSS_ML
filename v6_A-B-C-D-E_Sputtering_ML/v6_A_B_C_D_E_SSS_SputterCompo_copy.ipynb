{
 "cells": [
  {
   "cell_type": "code",
   "execution_count": 9,
   "metadata": {},
   "outputs": [
    {
     "name": "stdout",
     "output_type": "stream",
     "text": [
      "Current working directory: /Users/ywu/InSync/2021_MPIE/2021-12_H Diffusion/Matlab Toolbox HEA/v6_A-B-C-D-E_Sputtering/CCA_CALPHAD_SSS_ML/v6_A-B-C-D-E_Sputtering_ML\n",
      "\n",
      "Source folder: /Users/ywu/InSync/2021_MPIE/2021-12_H Diffusion/Matlab Toolbox HEA/v6_A-B-C-D-E_Sputtering\n",
      "Destination folder: /Users/ywu/InSync/2021_MPIE/2021-12_H Diffusion/Matlab Toolbox HEA/v6_A-B-C-D-E_Sputtering/CCA_CALPHAD_SSS_ML/v6_A-B-C-D-E_Sputtering_ML\n"
     ]
    }
   ],
   "source": [
    "import os\n",
    "import shutil\n",
    "from itertools import combinations\n",
    "import numpy as np\n",
    "import pandas as pd\n",
    "from tqdm import tqdm\n",
    "\n",
    "current_directory = os.getcwd()\n",
    "print(\"Current working directory:\", current_directory)\n",
    "print(\"\")\n",
    "\n",
    "source_folder = '../../'\n",
    "print(\"Source folder:\", os.path.abspath(source_folder))\n",
    "\n",
    "dst_folder = current_directory\n",
    "print(\"Destination folder:\", os.path.abspath(dst_folder))"
   ]
  },
  {
   "cell_type": "code",
   "execution_count": 10,
   "metadata": {},
   "outputs": [
    {
     "name": "stdout",
     "output_type": "stream",
     "text": [
      "('Co', 'V')\n"
     ]
    }
   ],
   "source": [
    "comb_D_E = list(combinations(\n",
    "    ['Co', 'V', 'Mn', 'Mo', 'Cu', 'Nb', 'W', 'Ti', 'Al', 'Si', 'Ta'], 2))\n",
    "print(comb_D_E[0])"
   ]
  },
  {
   "cell_type": "markdown",
   "metadata": {},
   "source": [
    "### Move the CALPHAD generated files to the new folder\n",
    "\n",
    "1. in at%\n",
    "2. in wt%\n"
   ]
  },
  {
   "cell_type": "code",
   "execution_count": 11,
   "metadata": {},
   "outputs": [
    {
     "name": "stderr",
     "output_type": "stream",
     "text": [
      "  0%|          | 0/55 [00:00<?, ?it/s]"
     ]
    },
    {
     "name": "stdout",
     "output_type": "stream",
     "text": [
      "Fe_Cr_Ni_Co_V\n",
      "Fe_Cr_Ni_Co_V: File exists!\n"
     ]
    },
    {
     "name": "stderr",
     "output_type": "stream",
     "text": [
      "  2%|▏         | 1/55 [00:08<07:13,  8.02s/it]"
     ]
    },
    {
     "name": "stdout",
     "output_type": "stream",
     "text": [
      "Fe_Cr_Ni_Co_V: File copied successfully!\n",
      "Fe_Cr_Ni_Co_Mn\n",
      "Fe_Cr_Ni_Co_Mn: File exists!\n"
     ]
    },
    {
     "name": "stderr",
     "output_type": "stream",
     "text": [
      "  4%|▎         | 2/55 [00:15<06:36,  7.49s/it]"
     ]
    },
    {
     "name": "stdout",
     "output_type": "stream",
     "text": [
      "Fe_Cr_Ni_Co_Mn: File copied successfully!\n",
      "Fe_Cr_Ni_Co_Mo\n",
      "Fe_Cr_Ni_Co_Mo: File exists!\n"
     ]
    },
    {
     "name": "stderr",
     "output_type": "stream",
     "text": [
      "  5%|▌         | 3/55 [00:22<06:36,  7.63s/it]"
     ]
    },
    {
     "name": "stdout",
     "output_type": "stream",
     "text": [
      "Fe_Cr_Ni_Co_Mo: File copied successfully!\n",
      "Fe_Cr_Ni_Co_Cu\n",
      "Fe_Cr_Ni_Co_Cu: File exists!\n"
     ]
    },
    {
     "name": "stderr",
     "output_type": "stream",
     "text": [
      "  7%|▋         | 4/55 [00:30<06:24,  7.55s/it]"
     ]
    },
    {
     "name": "stdout",
     "output_type": "stream",
     "text": [
      "Fe_Cr_Ni_Co_Cu: File copied successfully!\n",
      "Fe_Cr_Ni_Co_Nb\n",
      "Fe_Cr_Ni_Co_Nb: File exists!\n"
     ]
    },
    {
     "name": "stderr",
     "output_type": "stream",
     "text": [
      "  9%|▉         | 5/55 [00:37<06:15,  7.51s/it]"
     ]
    },
    {
     "name": "stdout",
     "output_type": "stream",
     "text": [
      "Fe_Cr_Ni_Co_Nb: File copied successfully!\n",
      "Fe_Cr_Ni_Co_W\n",
      "Fe_Cr_Ni_Co_W: File exists!\n"
     ]
    },
    {
     "name": "stderr",
     "output_type": "stream",
     "text": [
      " 11%|█         | 6/55 [00:45<06:03,  7.42s/it]"
     ]
    },
    {
     "name": "stdout",
     "output_type": "stream",
     "text": [
      "Fe_Cr_Ni_Co_W: File copied successfully!\n",
      "Fe_Cr_Ni_Co_Ti\n",
      "Fe_Cr_Ni_Co_Ti: File exists!\n"
     ]
    },
    {
     "name": "stderr",
     "output_type": "stream",
     "text": [
      " 13%|█▎        | 7/55 [00:52<05:56,  7.42s/it]"
     ]
    },
    {
     "name": "stdout",
     "output_type": "stream",
     "text": [
      "Fe_Cr_Ni_Co_Ti: File copied successfully!\n",
      "Fe_Cr_Ni_Co_Al\n",
      "Fe_Cr_Ni_Co_Al: File exists!\n"
     ]
    },
    {
     "name": "stderr",
     "output_type": "stream",
     "text": [
      " 15%|█▍        | 8/55 [00:59<05:49,  7.43s/it]"
     ]
    },
    {
     "name": "stdout",
     "output_type": "stream",
     "text": [
      "Fe_Cr_Ni_Co_Al: File copied successfully!\n",
      "Fe_Cr_Ni_Co_Si\n",
      "Fe_Cr_Ni_Co_Si: File exists!\n"
     ]
    },
    {
     "name": "stderr",
     "output_type": "stream",
     "text": [
      " 16%|█▋        | 9/55 [01:07<05:44,  7.50s/it]"
     ]
    },
    {
     "name": "stdout",
     "output_type": "stream",
     "text": [
      "Fe_Cr_Ni_Co_Si: File copied successfully!\n",
      "Fe_Cr_Ni_Co_Ta\n",
      "Fe_Cr_Ni_Co_Ta: File exists!\n"
     ]
    },
    {
     "name": "stderr",
     "output_type": "stream",
     "text": [
      " 18%|█▊        | 10/55 [01:15<05:37,  7.50s/it]"
     ]
    },
    {
     "name": "stdout",
     "output_type": "stream",
     "text": [
      "Fe_Cr_Ni_Co_Ta: File copied successfully!\n",
      "Fe_Cr_Ni_V_Mn\n",
      "Fe_Cr_Ni_V_Mn: File exists!\n"
     ]
    },
    {
     "name": "stderr",
     "output_type": "stream",
     "text": [
      " 20%|██        | 11/55 [01:22<05:30,  7.50s/it]"
     ]
    },
    {
     "name": "stdout",
     "output_type": "stream",
     "text": [
      "Fe_Cr_Ni_V_Mn: File copied successfully!\n",
      "Fe_Cr_Ni_V_Mo\n",
      "Fe_Cr_Ni_V_Mo: File exists!\n"
     ]
    },
    {
     "name": "stderr",
     "output_type": "stream",
     "text": [
      " 22%|██▏       | 12/55 [01:30<05:23,  7.52s/it]"
     ]
    },
    {
     "name": "stdout",
     "output_type": "stream",
     "text": [
      "Fe_Cr_Ni_V_Mo: File copied successfully!\n",
      "Fe_Cr_Ni_V_Cu\n",
      "Fe_Cr_Ni_V_Cu: File exists!\n"
     ]
    },
    {
     "name": "stderr",
     "output_type": "stream",
     "text": [
      " 24%|██▎       | 13/55 [01:37<05:10,  7.39s/it]"
     ]
    },
    {
     "name": "stdout",
     "output_type": "stream",
     "text": [
      "Fe_Cr_Ni_V_Cu: File copied successfully!\n",
      "Fe_Cr_Ni_V_Nb\n",
      "Fe_Cr_Ni_V_Nb: File exists!\n"
     ]
    },
    {
     "name": "stderr",
     "output_type": "stream",
     "text": [
      " 25%|██▌       | 14/55 [01:44<04:58,  7.28s/it]"
     ]
    },
    {
     "name": "stdout",
     "output_type": "stream",
     "text": [
      "Fe_Cr_Ni_V_Nb: File copied successfully!\n",
      "Fe_Cr_Ni_V_W\n",
      "Fe_Cr_Ni_V_W: File exists!\n"
     ]
    },
    {
     "name": "stderr",
     "output_type": "stream",
     "text": [
      " 27%|██▋       | 15/55 [01:51<04:51,  7.28s/it]"
     ]
    },
    {
     "name": "stdout",
     "output_type": "stream",
     "text": [
      "Fe_Cr_Ni_V_W: File copied successfully!\n",
      "Fe_Cr_Ni_V_Ti\n",
      "Fe_Cr_Ni_V_Ti: File exists!\n"
     ]
    },
    {
     "name": "stderr",
     "output_type": "stream",
     "text": [
      " 29%|██▉       | 16/55 [01:59<04:55,  7.59s/it]"
     ]
    },
    {
     "name": "stdout",
     "output_type": "stream",
     "text": [
      "Fe_Cr_Ni_V_Ti: File copied successfully!\n",
      "Fe_Cr_Ni_V_Al\n",
      "Fe_Cr_Ni_V_Al: File exists!\n"
     ]
    },
    {
     "name": "stderr",
     "output_type": "stream",
     "text": [
      " 31%|███       | 17/55 [02:09<05:11,  8.18s/it]"
     ]
    },
    {
     "name": "stdout",
     "output_type": "stream",
     "text": [
      "Fe_Cr_Ni_V_Al: File copied successfully!\n",
      "Fe_Cr_Ni_V_Si\n",
      "Fe_Cr_Ni_V_Si: File exists!\n"
     ]
    },
    {
     "name": "stderr",
     "output_type": "stream",
     "text": [
      " 33%|███▎      | 18/55 [02:16<04:53,  7.94s/it]"
     ]
    },
    {
     "name": "stdout",
     "output_type": "stream",
     "text": [
      "Fe_Cr_Ni_V_Si: File copied successfully!\n",
      "Fe_Cr_Ni_V_Ta\n",
      "Fe_Cr_Ni_V_Ta: File exists!\n"
     ]
    },
    {
     "name": "stderr",
     "output_type": "stream",
     "text": [
      " 35%|███▍      | 19/55 [02:24<04:48,  8.02s/it]"
     ]
    },
    {
     "name": "stdout",
     "output_type": "stream",
     "text": [
      "Fe_Cr_Ni_V_Ta: File copied successfully!\n",
      "Fe_Cr_Ni_Mn_Mo\n",
      "Fe_Cr_Ni_Mn_Mo: File exists!\n"
     ]
    },
    {
     "name": "stderr",
     "output_type": "stream",
     "text": [
      " 36%|███▋      | 20/55 [02:35<05:08,  8.81s/it]"
     ]
    },
    {
     "name": "stdout",
     "output_type": "stream",
     "text": [
      "Fe_Cr_Ni_Mn_Mo: File copied successfully!\n",
      "Fe_Cr_Ni_Mn_Cu\n",
      "Fe_Cr_Ni_Mn_Cu: File exists!\n"
     ]
    },
    {
     "name": "stderr",
     "output_type": "stream",
     "text": [
      " 38%|███▊      | 21/55 [02:43<04:53,  8.62s/it]"
     ]
    },
    {
     "name": "stdout",
     "output_type": "stream",
     "text": [
      "Fe_Cr_Ni_Mn_Cu: File copied successfully!\n",
      "Fe_Cr_Ni_Mn_Nb\n",
      "Fe_Cr_Ni_Mn_Nb: File exists!\n"
     ]
    },
    {
     "name": "stderr",
     "output_type": "stream",
     "text": [
      " 40%|████      | 22/55 [02:50<04:28,  8.15s/it]"
     ]
    },
    {
     "name": "stdout",
     "output_type": "stream",
     "text": [
      "Fe_Cr_Ni_Mn_Nb: File copied successfully!\n",
      "Fe_Cr_Ni_Mn_W\n",
      "Fe_Cr_Ni_Mn_W: File exists!\n"
     ]
    },
    {
     "name": "stderr",
     "output_type": "stream",
     "text": [
      " 42%|████▏     | 23/55 [02:57<04:11,  7.85s/it]"
     ]
    },
    {
     "name": "stdout",
     "output_type": "stream",
     "text": [
      "Fe_Cr_Ni_Mn_W: File copied successfully!\n",
      "Fe_Cr_Ni_Mn_Ti\n",
      "Fe_Cr_Ni_Mn_Ti: File exists!\n"
     ]
    },
    {
     "name": "stderr",
     "output_type": "stream",
     "text": [
      " 44%|████▎     | 24/55 [03:05<03:56,  7.63s/it]"
     ]
    },
    {
     "name": "stdout",
     "output_type": "stream",
     "text": [
      "Fe_Cr_Ni_Mn_Ti: File copied successfully!\n",
      "Fe_Cr_Ni_Mn_Al\n",
      "Fe_Cr_Ni_Mn_Al: File exists!\n"
     ]
    },
    {
     "name": "stderr",
     "output_type": "stream",
     "text": [
      " 45%|████▌     | 25/55 [03:12<03:46,  7.56s/it]"
     ]
    },
    {
     "name": "stdout",
     "output_type": "stream",
     "text": [
      "Fe_Cr_Ni_Mn_Al: File copied successfully!\n",
      "Fe_Cr_Ni_Mn_Si\n",
      "Fe_Cr_Ni_Mn_Si: File exists!\n"
     ]
    },
    {
     "name": "stderr",
     "output_type": "stream",
     "text": [
      " 47%|████▋     | 26/55 [03:19<03:37,  7.50s/it]"
     ]
    },
    {
     "name": "stdout",
     "output_type": "stream",
     "text": [
      "Fe_Cr_Ni_Mn_Si: File copied successfully!\n",
      "Fe_Cr_Ni_Mn_Ta\n",
      "Fe_Cr_Ni_Mn_Ta: File exists!\n"
     ]
    },
    {
     "name": "stderr",
     "output_type": "stream",
     "text": [
      " 49%|████▉     | 27/55 [03:27<03:27,  7.42s/it]"
     ]
    },
    {
     "name": "stdout",
     "output_type": "stream",
     "text": [
      "Fe_Cr_Ni_Mn_Ta: File copied successfully!\n",
      "Fe_Cr_Ni_Mo_Cu\n",
      "Fe_Cr_Ni_Mo_Cu: File exists!\n"
     ]
    },
    {
     "name": "stderr",
     "output_type": "stream",
     "text": [
      " 51%|█████     | 28/55 [03:34<03:21,  7.46s/it]"
     ]
    },
    {
     "name": "stdout",
     "output_type": "stream",
     "text": [
      "Fe_Cr_Ni_Mo_Cu: File copied successfully!\n",
      "Fe_Cr_Ni_Mo_Nb\n",
      "Fe_Cr_Ni_Mo_Nb: File exists!\n"
     ]
    },
    {
     "name": "stderr",
     "output_type": "stream",
     "text": [
      " 53%|█████▎    | 29/55 [03:41<03:12,  7.41s/it]"
     ]
    },
    {
     "name": "stdout",
     "output_type": "stream",
     "text": [
      "Fe_Cr_Ni_Mo_Nb: File copied successfully!\n",
      "Fe_Cr_Ni_Mo_W\n",
      "Fe_Cr_Ni_Mo_W: File exists!\n"
     ]
    },
    {
     "name": "stderr",
     "output_type": "stream",
     "text": [
      " 53%|█████▎    | 29/55 [03:46<03:22,  7.81s/it]\n"
     ]
    },
    {
     "ename": "KeyboardInterrupt",
     "evalue": "",
     "output_type": "error",
     "traceback": [
      "\u001b[0;31m---------------------------------------------------------------------------\u001b[0m",
      "\u001b[0;31mKeyboardInterrupt\u001b[0m                         Traceback (most recent call last)",
      "Cell \u001b[0;32mIn[11], line 86\u001b[0m\n\u001b[1;32m     82\u001b[0m dst_file_wt \u001b[39m=\u001b[39m os\u001b[39m.\u001b[39mpath\u001b[39m.\u001b[39mjoin(\n\u001b[1;32m     83\u001b[0m     dst_folder, dst_subfolder, \u001b[39m'\u001b[39m\u001b[39mv6_\u001b[39m\u001b[39m'\u001b[39m \u001b[39m+\u001b[39m comb_A_B_C_D_E_temp \u001b[39m+\u001b[39m \u001b[39m'\u001b[39m\u001b[39m_SSS_FCC_byCompo_wt_pct.xlsx\u001b[39m\u001b[39m'\u001b[39m)\n\u001b[1;32m     84\u001b[0m \u001b[39m# print('Destination file directory:', os.path.abspath(dst_file_at))\u001b[39;00m\n\u001b[1;32m     85\u001b[0m \u001b[39m# print('Destination file directory:', os.path.abspath(dst_file_wt))\u001b[39;00m\n\u001b[0;32m---> 86\u001b[0m df_raw_at\u001b[39m.\u001b[39;49mto_excel(dst_file_at, index\u001b[39m=\u001b[39;49m\u001b[39mFalse\u001b[39;49;00m)\n\u001b[1;32m     87\u001b[0m df_raw_wt\u001b[39m.\u001b[39mto_excel(dst_file_wt, index\u001b[39m=\u001b[39m\u001b[39mFalse\u001b[39;00m)\n\u001b[1;32m     88\u001b[0m \u001b[39mprint\u001b[39m(comb_A_B_C_D_E_temp \u001b[39m+\u001b[39m \u001b[39m'\u001b[39m\u001b[39m: File copied successfully!\u001b[39m\u001b[39m'\u001b[39m)\n",
      "File \u001b[0;32m~/opt/anaconda3/envs/tf-env/lib/python3.9/site-packages/pandas/core/generic.py:2252\u001b[0m, in \u001b[0;36mNDFrame.to_excel\u001b[0;34m(self, excel_writer, sheet_name, na_rep, float_format, columns, header, index, index_label, startrow, startcol, engine, merge_cells, inf_rep, freeze_panes, storage_options)\u001b[0m\n\u001b[1;32m   2239\u001b[0m \u001b[39mfrom\u001b[39;00m \u001b[39mpandas\u001b[39;00m\u001b[39m.\u001b[39;00m\u001b[39mio\u001b[39;00m\u001b[39m.\u001b[39;00m\u001b[39mformats\u001b[39;00m\u001b[39m.\u001b[39;00m\u001b[39mexcel\u001b[39;00m \u001b[39mimport\u001b[39;00m ExcelFormatter\n\u001b[1;32m   2241\u001b[0m formatter \u001b[39m=\u001b[39m ExcelFormatter(\n\u001b[1;32m   2242\u001b[0m     df,\n\u001b[1;32m   2243\u001b[0m     na_rep\u001b[39m=\u001b[39mna_rep,\n\u001b[0;32m   (...)\u001b[0m\n\u001b[1;32m   2250\u001b[0m     inf_rep\u001b[39m=\u001b[39minf_rep,\n\u001b[1;32m   2251\u001b[0m )\n\u001b[0;32m-> 2252\u001b[0m formatter\u001b[39m.\u001b[39;49mwrite(\n\u001b[1;32m   2253\u001b[0m     excel_writer,\n\u001b[1;32m   2254\u001b[0m     sheet_name\u001b[39m=\u001b[39;49msheet_name,\n\u001b[1;32m   2255\u001b[0m     startrow\u001b[39m=\u001b[39;49mstartrow,\n\u001b[1;32m   2256\u001b[0m     startcol\u001b[39m=\u001b[39;49mstartcol,\n\u001b[1;32m   2257\u001b[0m     freeze_panes\u001b[39m=\u001b[39;49mfreeze_panes,\n\u001b[1;32m   2258\u001b[0m     engine\u001b[39m=\u001b[39;49mengine,\n\u001b[1;32m   2259\u001b[0m     storage_options\u001b[39m=\u001b[39;49mstorage_options,\n\u001b[1;32m   2260\u001b[0m )\n",
      "File \u001b[0;32m~/opt/anaconda3/envs/tf-env/lib/python3.9/site-packages/pandas/io/formats/excel.py:950\u001b[0m, in \u001b[0;36mExcelFormatter.write\u001b[0;34m(self, writer, sheet_name, startrow, startcol, freeze_panes, engine, storage_options)\u001b[0m\n\u001b[1;32m    947\u001b[0m \u001b[39mfinally\u001b[39;00m:\n\u001b[1;32m    948\u001b[0m     \u001b[39m# make sure to close opened file handles\u001b[39;00m\n\u001b[1;32m    949\u001b[0m     \u001b[39mif\u001b[39;00m need_save:\n\u001b[0;32m--> 950\u001b[0m         writer\u001b[39m.\u001b[39;49mclose()\n",
      "File \u001b[0;32m~/opt/anaconda3/envs/tf-env/lib/python3.9/site-packages/pandas/io/excel/_base.py:1326\u001b[0m, in \u001b[0;36mExcelWriter.close\u001b[0;34m(self)\u001b[0m\n\u001b[1;32m   1324\u001b[0m \u001b[39mdef\u001b[39;00m \u001b[39mclose\u001b[39m(\u001b[39mself\u001b[39m) \u001b[39m-\u001b[39m\u001b[39m>\u001b[39m \u001b[39mNone\u001b[39;00m:\n\u001b[1;32m   1325\u001b[0m \u001b[39m    \u001b[39m\u001b[39m\"\"\"synonym for save, to make it more file-like\"\"\"\u001b[39;00m\n\u001b[0;32m-> 1326\u001b[0m     \u001b[39mself\u001b[39;49m\u001b[39m.\u001b[39;49m_save()\n\u001b[1;32m   1327\u001b[0m     \u001b[39mself\u001b[39m\u001b[39m.\u001b[39m_handles\u001b[39m.\u001b[39mclose()\n",
      "File \u001b[0;32m~/opt/anaconda3/envs/tf-env/lib/python3.9/site-packages/pandas/io/excel/_openpyxl.py:109\u001b[0m, in \u001b[0;36mOpenpyxlWriter._save\u001b[0;34m(self)\u001b[0m\n\u001b[1;32m    105\u001b[0m \u001b[39mdef\u001b[39;00m \u001b[39m_save\u001b[39m(\u001b[39mself\u001b[39m) \u001b[39m-\u001b[39m\u001b[39m>\u001b[39m \u001b[39mNone\u001b[39;00m:\n\u001b[1;32m    106\u001b[0m \u001b[39m    \u001b[39m\u001b[39m\"\"\"\u001b[39;00m\n\u001b[1;32m    107\u001b[0m \u001b[39m    Save workbook to disk.\u001b[39;00m\n\u001b[1;32m    108\u001b[0m \u001b[39m    \"\"\"\u001b[39;00m\n\u001b[0;32m--> 109\u001b[0m     \u001b[39mself\u001b[39;49m\u001b[39m.\u001b[39;49mbook\u001b[39m.\u001b[39;49msave(\u001b[39mself\u001b[39;49m\u001b[39m.\u001b[39;49m_handles\u001b[39m.\u001b[39;49mhandle)\n\u001b[1;32m    110\u001b[0m     \u001b[39mif\u001b[39;00m \u001b[39m\"\u001b[39m\u001b[39mr+\u001b[39m\u001b[39m\"\u001b[39m \u001b[39min\u001b[39;00m \u001b[39mself\u001b[39m\u001b[39m.\u001b[39m_mode \u001b[39mand\u001b[39;00m \u001b[39mnot\u001b[39;00m \u001b[39misinstance\u001b[39m(\u001b[39mself\u001b[39m\u001b[39m.\u001b[39m_handles\u001b[39m.\u001b[39mhandle, mmap\u001b[39m.\u001b[39mmmap):\n\u001b[1;32m    111\u001b[0m         \u001b[39m# truncate file to the written content\u001b[39;00m\n\u001b[1;32m    112\u001b[0m         \u001b[39mself\u001b[39m\u001b[39m.\u001b[39m_handles\u001b[39m.\u001b[39mhandle\u001b[39m.\u001b[39mtruncate()\n",
      "File \u001b[0;32m~/opt/anaconda3/envs/tf-env/lib/python3.9/site-packages/openpyxl/workbook/workbook.py:386\u001b[0m, in \u001b[0;36mWorkbook.save\u001b[0;34m(self, filename)\u001b[0m\n\u001b[1;32m    384\u001b[0m \u001b[39mif\u001b[39;00m \u001b[39mself\u001b[39m\u001b[39m.\u001b[39mwrite_only \u001b[39mand\u001b[39;00m \u001b[39mnot\u001b[39;00m \u001b[39mself\u001b[39m\u001b[39m.\u001b[39mworksheets:\n\u001b[1;32m    385\u001b[0m     \u001b[39mself\u001b[39m\u001b[39m.\u001b[39mcreate_sheet()\n\u001b[0;32m--> 386\u001b[0m save_workbook(\u001b[39mself\u001b[39;49m, filename)\n",
      "File \u001b[0;32m~/opt/anaconda3/envs/tf-env/lib/python3.9/site-packages/openpyxl/writer/excel.py:294\u001b[0m, in \u001b[0;36msave_workbook\u001b[0;34m(workbook, filename)\u001b[0m\n\u001b[1;32m    292\u001b[0m workbook\u001b[39m.\u001b[39mproperties\u001b[39m.\u001b[39mmodified \u001b[39m=\u001b[39m datetime\u001b[39m.\u001b[39mdatetime\u001b[39m.\u001b[39mutcnow()\n\u001b[1;32m    293\u001b[0m writer \u001b[39m=\u001b[39m ExcelWriter(workbook, archive)\n\u001b[0;32m--> 294\u001b[0m writer\u001b[39m.\u001b[39;49msave()\n\u001b[1;32m    295\u001b[0m \u001b[39mreturn\u001b[39;00m \u001b[39mTrue\u001b[39;00m\n",
      "File \u001b[0;32m~/opt/anaconda3/envs/tf-env/lib/python3.9/site-packages/openpyxl/writer/excel.py:275\u001b[0m, in \u001b[0;36mExcelWriter.save\u001b[0;34m(self)\u001b[0m\n\u001b[1;32m    273\u001b[0m \u001b[39mdef\u001b[39;00m \u001b[39msave\u001b[39m(\u001b[39mself\u001b[39m):\n\u001b[1;32m    274\u001b[0m \u001b[39m    \u001b[39m\u001b[39m\"\"\"Write data into the archive.\"\"\"\u001b[39;00m\n\u001b[0;32m--> 275\u001b[0m     \u001b[39mself\u001b[39;49m\u001b[39m.\u001b[39;49mwrite_data()\n\u001b[1;32m    276\u001b[0m     \u001b[39mself\u001b[39m\u001b[39m.\u001b[39m_archive\u001b[39m.\u001b[39mclose()\n",
      "File \u001b[0;32m~/opt/anaconda3/envs/tf-env/lib/python3.9/site-packages/openpyxl/writer/excel.py:77\u001b[0m, in \u001b[0;36mExcelWriter.write_data\u001b[0;34m(self)\u001b[0m\n\u001b[1;32m     74\u001b[0m     custom_override \u001b[39m=\u001b[39m CustomOverride()\n\u001b[1;32m     75\u001b[0m     \u001b[39mself\u001b[39m\u001b[39m.\u001b[39mmanifest\u001b[39m.\u001b[39mappend(custom_override)\n\u001b[0;32m---> 77\u001b[0m \u001b[39mself\u001b[39;49m\u001b[39m.\u001b[39;49m_write_worksheets()\n\u001b[1;32m     78\u001b[0m \u001b[39mself\u001b[39m\u001b[39m.\u001b[39m_write_chartsheets()\n\u001b[1;32m     79\u001b[0m \u001b[39mself\u001b[39m\u001b[39m.\u001b[39m_write_images()\n",
      "File \u001b[0;32m~/opt/anaconda3/envs/tf-env/lib/python3.9/site-packages/openpyxl/writer/excel.py:215\u001b[0m, in \u001b[0;36mExcelWriter._write_worksheets\u001b[0;34m(self)\u001b[0m\n\u001b[1;32m    212\u001b[0m \u001b[39mfor\u001b[39;00m idx, ws \u001b[39min\u001b[39;00m \u001b[39menumerate\u001b[39m(\u001b[39mself\u001b[39m\u001b[39m.\u001b[39mworkbook\u001b[39m.\u001b[39mworksheets, \u001b[39m1\u001b[39m):\n\u001b[1;32m    214\u001b[0m     ws\u001b[39m.\u001b[39m_id \u001b[39m=\u001b[39m idx\n\u001b[0;32m--> 215\u001b[0m     \u001b[39mself\u001b[39;49m\u001b[39m.\u001b[39;49mwrite_worksheet(ws)\n\u001b[1;32m    217\u001b[0m     \u001b[39mif\u001b[39;00m ws\u001b[39m.\u001b[39m_drawing:\n\u001b[1;32m    218\u001b[0m         \u001b[39mself\u001b[39m\u001b[39m.\u001b[39m_write_drawing(ws\u001b[39m.\u001b[39m_drawing)\n",
      "File \u001b[0;32m~/opt/anaconda3/envs/tf-env/lib/python3.9/site-packages/openpyxl/writer/excel.py:200\u001b[0m, in \u001b[0;36mExcelWriter.write_worksheet\u001b[0;34m(self, ws)\u001b[0m\n\u001b[1;32m    198\u001b[0m \u001b[39melse\u001b[39;00m:\n\u001b[1;32m    199\u001b[0m     writer \u001b[39m=\u001b[39m WorksheetWriter(ws)\n\u001b[0;32m--> 200\u001b[0m     writer\u001b[39m.\u001b[39;49mwrite()\n\u001b[1;32m    202\u001b[0m ws\u001b[39m.\u001b[39m_rels \u001b[39m=\u001b[39m writer\u001b[39m.\u001b[39m_rels\n\u001b[1;32m    203\u001b[0m \u001b[39mself\u001b[39m\u001b[39m.\u001b[39m_archive\u001b[39m.\u001b[39mwrite(writer\u001b[39m.\u001b[39mout, ws\u001b[39m.\u001b[39mpath[\u001b[39m1\u001b[39m:])\n",
      "File \u001b[0;32m~/opt/anaconda3/envs/tf-env/lib/python3.9/site-packages/openpyxl/worksheet/_writer.py:361\u001b[0m, in \u001b[0;36mWorksheetWriter.write\u001b[0;34m(self)\u001b[0m\n\u001b[1;32m    359\u001b[0m \u001b[39mself\u001b[39m\u001b[39m.\u001b[39mwrite_rows()\n\u001b[1;32m    360\u001b[0m \u001b[39mself\u001b[39m\u001b[39m.\u001b[39mwrite_tail()\n\u001b[0;32m--> 361\u001b[0m \u001b[39mself\u001b[39;49m\u001b[39m.\u001b[39;49mclose()\n",
      "File \u001b[0;32m~/opt/anaconda3/envs/tf-env/lib/python3.9/site-packages/openpyxl/worksheet/_writer.py:369\u001b[0m, in \u001b[0;36mWorksheetWriter.close\u001b[0;34m(self)\u001b[0m\n\u001b[1;32m    365\u001b[0m \u001b[39m\u001b[39m\u001b[39m\"\"\"\u001b[39;00m\n\u001b[1;32m    366\u001b[0m \u001b[39mClose the context manager\u001b[39;00m\n\u001b[1;32m    367\u001b[0m \u001b[39m\"\"\"\u001b[39;00m\n\u001b[1;32m    368\u001b[0m \u001b[39mif\u001b[39;00m \u001b[39mself\u001b[39m\u001b[39m.\u001b[39mxf:\n\u001b[0;32m--> 369\u001b[0m     \u001b[39mself\u001b[39;49m\u001b[39m.\u001b[39;49mxf\u001b[39m.\u001b[39;49mclose()\n",
      "File \u001b[0;32m~/opt/anaconda3/envs/tf-env/lib/python3.9/site-packages/openpyxl/worksheet/_writer.py:300\u001b[0m, in \u001b[0;36mWorksheetWriter.get_stream\u001b[0;34m(self)\u001b[0m\n\u001b[1;32m    298\u001b[0m             xf\u001b[39m.\u001b[39mwrite(el)\n\u001b[1;32m    299\u001b[0m \u001b[39mexcept\u001b[39;00m \u001b[39mGeneratorExit\u001b[39;00m:\n\u001b[0;32m--> 300\u001b[0m     \u001b[39mpass\u001b[39;00m\n",
      "File \u001b[0;32m~/opt/anaconda3/envs/tf-env/lib/python3.9/contextlib.py:126\u001b[0m, in \u001b[0;36m_GeneratorContextManager.__exit__\u001b[0;34m(self, typ, value, traceback)\u001b[0m\n\u001b[1;32m    124\u001b[0m \u001b[39mif\u001b[39;00m typ \u001b[39mis\u001b[39;00m \u001b[39mNone\u001b[39;00m:\n\u001b[1;32m    125\u001b[0m     \u001b[39mtry\u001b[39;00m:\n\u001b[0;32m--> 126\u001b[0m         \u001b[39mnext\u001b[39;49m(\u001b[39mself\u001b[39;49m\u001b[39m.\u001b[39;49mgen)\n\u001b[1;32m    127\u001b[0m     \u001b[39mexcept\u001b[39;00m \u001b[39mStopIteration\u001b[39;00m:\n\u001b[1;32m    128\u001b[0m         \u001b[39mreturn\u001b[39;00m \u001b[39mFalse\u001b[39;00m\n",
      "File \u001b[0;32m~/opt/anaconda3/envs/tf-env/lib/python3.9/site-packages/et_xmlfile/xmlfile.py:50\u001b[0m, in \u001b[0;36m_FakeIncrementalFileWriter.element\u001b[0;34m(self, tag, attrib, nsmap, **_extra)\u001b[0m\n\u001b[1;32m     48\u001b[0m     \u001b[39mself\u001b[39m\u001b[39m.\u001b[39m_top_element \u001b[39m=\u001b[39m parent\n\u001b[1;32m     49\u001b[0m \u001b[39melse\u001b[39;00m:\n\u001b[0;32m---> 50\u001b[0m     \u001b[39mself\u001b[39;49m\u001b[39m.\u001b[39;49m_write_element(el)\n\u001b[1;32m     51\u001b[0m     \u001b[39mself\u001b[39m\u001b[39m.\u001b[39m_top_element \u001b[39m=\u001b[39m \u001b[39mNone\u001b[39;00m\n",
      "File \u001b[0;32m~/opt/anaconda3/envs/tf-env/lib/python3.9/site-packages/et_xmlfile/xmlfile.py:77\u001b[0m, in \u001b[0;36m_FakeIncrementalFileWriter._write_element\u001b[0;34m(self, element)\u001b[0m\n\u001b[1;32m     76\u001b[0m \u001b[39mdef\u001b[39;00m \u001b[39m_write_element\u001b[39m(\u001b[39mself\u001b[39m, element):\n\u001b[0;32m---> 77\u001b[0m     xml \u001b[39m=\u001b[39m tostring(element)\n\u001b[1;32m     78\u001b[0m     \u001b[39mself\u001b[39m\u001b[39m.\u001b[39m_file\u001b[39m.\u001b[39mwrite(xml)\n",
      "File \u001b[0;32m~/opt/anaconda3/envs/tf-env/lib/python3.9/xml/etree/ElementTree.py:1102\u001b[0m, in \u001b[0;36mtostring\u001b[0;34m(element, encoding, method, xml_declaration, default_namespace, short_empty_elements)\u001b[0m\n\u001b[1;32m   1088\u001b[0m \u001b[39m\u001b[39m\u001b[39m\"\"\"Generate string representation of XML element.\u001b[39;00m\n\u001b[1;32m   1089\u001b[0m \n\u001b[1;32m   1090\u001b[0m \u001b[39mAll subelements are included.  If encoding is \"unicode\", a string\u001b[39;00m\n\u001b[0;32m   (...)\u001b[0m\n\u001b[1;32m   1099\u001b[0m \n\u001b[1;32m   1100\u001b[0m \u001b[39m\"\"\"\u001b[39;00m\n\u001b[1;32m   1101\u001b[0m stream \u001b[39m=\u001b[39m io\u001b[39m.\u001b[39mStringIO() \u001b[39mif\u001b[39;00m encoding \u001b[39m==\u001b[39m \u001b[39m'\u001b[39m\u001b[39municode\u001b[39m\u001b[39m'\u001b[39m \u001b[39melse\u001b[39;00m io\u001b[39m.\u001b[39mBytesIO()\n\u001b[0;32m-> 1102\u001b[0m ElementTree(element)\u001b[39m.\u001b[39;49mwrite(stream, encoding,\n\u001b[1;32m   1103\u001b[0m                            xml_declaration\u001b[39m=\u001b[39;49mxml_declaration,\n\u001b[1;32m   1104\u001b[0m                            default_namespace\u001b[39m=\u001b[39;49mdefault_namespace,\n\u001b[1;32m   1105\u001b[0m                            method\u001b[39m=\u001b[39;49mmethod,\n\u001b[1;32m   1106\u001b[0m                            short_empty_elements\u001b[39m=\u001b[39;49mshort_empty_elements)\n\u001b[1;32m   1107\u001b[0m \u001b[39mreturn\u001b[39;00m stream\u001b[39m.\u001b[39mgetvalue()\n",
      "File \u001b[0;32m~/opt/anaconda3/envs/tf-env/lib/python3.9/xml/etree/ElementTree.py:743\u001b[0m, in \u001b[0;36mElementTree.write\u001b[0;34m(self, file_or_filename, encoding, xml_declaration, default_namespace, method, short_empty_elements)\u001b[0m\n\u001b[1;32m    741\u001b[0m qnames, namespaces \u001b[39m=\u001b[39m _namespaces(\u001b[39mself\u001b[39m\u001b[39m.\u001b[39m_root, default_namespace)\n\u001b[1;32m    742\u001b[0m serialize \u001b[39m=\u001b[39m _serialize[method]\n\u001b[0;32m--> 743\u001b[0m serialize(write, \u001b[39mself\u001b[39;49m\u001b[39m.\u001b[39;49m_root, qnames, namespaces,\n\u001b[1;32m    744\u001b[0m           short_empty_elements\u001b[39m=\u001b[39;49mshort_empty_elements)\n",
      "File \u001b[0;32m~/opt/anaconda3/envs/tf-env/lib/python3.9/xml/etree/ElementTree.py:906\u001b[0m, in \u001b[0;36m_serialize_xml\u001b[0;34m(write, elem, qnames, namespaces, short_empty_elements, **kwargs)\u001b[0m\n\u001b[1;32m    904\u001b[0m         write(_escape_cdata(text))\n\u001b[1;32m    905\u001b[0m     \u001b[39mfor\u001b[39;00m e \u001b[39min\u001b[39;00m elem:\n\u001b[0;32m--> 906\u001b[0m         _serialize_xml(write, e, qnames, \u001b[39mNone\u001b[39;49;00m,\n\u001b[1;32m    907\u001b[0m                        short_empty_elements\u001b[39m=\u001b[39;49mshort_empty_elements)\n\u001b[1;32m    908\u001b[0m     write(\u001b[39m\"\u001b[39m\u001b[39m</\u001b[39m\u001b[39m\"\u001b[39m \u001b[39m+\u001b[39m tag \u001b[39m+\u001b[39m \u001b[39m\"\u001b[39m\u001b[39m>\u001b[39m\u001b[39m\"\u001b[39m)\n\u001b[1;32m    909\u001b[0m \u001b[39melse\u001b[39;00m:\n",
      "File \u001b[0;32m~/opt/anaconda3/envs/tf-env/lib/python3.9/xml/etree/ElementTree.py:906\u001b[0m, in \u001b[0;36m_serialize_xml\u001b[0;34m(write, elem, qnames, namespaces, short_empty_elements, **kwargs)\u001b[0m\n\u001b[1;32m    904\u001b[0m         write(_escape_cdata(text))\n\u001b[1;32m    905\u001b[0m     \u001b[39mfor\u001b[39;00m e \u001b[39min\u001b[39;00m elem:\n\u001b[0;32m--> 906\u001b[0m         _serialize_xml(write, e, qnames, \u001b[39mNone\u001b[39;49;00m,\n\u001b[1;32m    907\u001b[0m                        short_empty_elements\u001b[39m=\u001b[39;49mshort_empty_elements)\n\u001b[1;32m    908\u001b[0m     write(\u001b[39m\"\u001b[39m\u001b[39m</\u001b[39m\u001b[39m\"\u001b[39m \u001b[39m+\u001b[39m tag \u001b[39m+\u001b[39m \u001b[39m\"\u001b[39m\u001b[39m>\u001b[39m\u001b[39m\"\u001b[39m)\n\u001b[1;32m    909\u001b[0m \u001b[39melse\u001b[39;00m:\n",
      "File \u001b[0;32m~/opt/anaconda3/envs/tf-env/lib/python3.9/xml/etree/ElementTree.py:906\u001b[0m, in \u001b[0;36m_serialize_xml\u001b[0;34m(write, elem, qnames, namespaces, short_empty_elements, **kwargs)\u001b[0m\n\u001b[1;32m    904\u001b[0m         write(_escape_cdata(text))\n\u001b[1;32m    905\u001b[0m     \u001b[39mfor\u001b[39;00m e \u001b[39min\u001b[39;00m elem:\n\u001b[0;32m--> 906\u001b[0m         _serialize_xml(write, e, qnames, \u001b[39mNone\u001b[39;49;00m,\n\u001b[1;32m    907\u001b[0m                        short_empty_elements\u001b[39m=\u001b[39;49mshort_empty_elements)\n\u001b[1;32m    908\u001b[0m     write(\u001b[39m\"\u001b[39m\u001b[39m</\u001b[39m\u001b[39m\"\u001b[39m \u001b[39m+\u001b[39m tag \u001b[39m+\u001b[39m \u001b[39m\"\u001b[39m\u001b[39m>\u001b[39m\u001b[39m\"\u001b[39m)\n\u001b[1;32m    909\u001b[0m \u001b[39melse\u001b[39;00m:\n",
      "File \u001b[0;32m~/opt/anaconda3/envs/tf-env/lib/python3.9/xml/etree/ElementTree.py:893\u001b[0m, in \u001b[0;36m_serialize_xml\u001b[0;34m(write, elem, qnames, namespaces, short_empty_elements, **kwargs)\u001b[0m\n\u001b[1;32m    888\u001b[0m             k \u001b[39m=\u001b[39m \u001b[39m\"\u001b[39m\u001b[39m:\u001b[39m\u001b[39m\"\u001b[39m \u001b[39m+\u001b[39m k\n\u001b[1;32m    889\u001b[0m         write(\u001b[39m\"\u001b[39m\u001b[39m xmlns\u001b[39m\u001b[39m%s\u001b[39;00m\u001b[39m=\u001b[39m\u001b[39m\\\"\u001b[39;00m\u001b[39m%s\u001b[39;00m\u001b[39m\\\"\u001b[39;00m\u001b[39m\"\u001b[39m \u001b[39m%\u001b[39m (\n\u001b[1;32m    890\u001b[0m             k,\n\u001b[1;32m    891\u001b[0m             _escape_attrib(v)\n\u001b[1;32m    892\u001b[0m             ))\n\u001b[0;32m--> 893\u001b[0m \u001b[39mfor\u001b[39;00m k, v \u001b[39min\u001b[39;00m items:\n\u001b[1;32m    894\u001b[0m     \u001b[39mif\u001b[39;00m \u001b[39misinstance\u001b[39m(k, QName):\n\u001b[1;32m    895\u001b[0m         k \u001b[39m=\u001b[39m k\u001b[39m.\u001b[39mtext\n",
      "\u001b[0;31mKeyboardInterrupt\u001b[0m: "
     ]
    }
   ],
   "source": [
    "for comb in tqdm(comb_D_E):\n",
    "\n",
    "    comb_A_B_C_D_E_temp = 'Fe_Cr_Ni_' + comb[0] + '_' + comb[1]\n",
    "    print(\"\")\n",
    "    print(comb_A_B_C_D_E_temp)\n",
    "\n",
    "    # Define the source directory -----------------------------------\n",
    "    source_subfolder = 'v6_' + comb_A_B_C_D_E_temp + '_Sputtering'\n",
    "    source_file = os.path.join(\n",
    "        source_folder, source_subfolder, 'SSS_FCC_byCompo.xlsx')\n",
    "\n",
    "    # print('Source file directory:', os.path.abspath(source_file))\n",
    "\n",
    "    if os.path.isfile(source_file):\n",
    "        print(comb_A_B_C_D_E_temp + ': File exists!')\n",
    "    else:\n",
    "        print(comb_A_B_C_D_E_temp + ': File does not exist.')\n",
    "    # ----------------------------------------------------------------\n",
    "\n",
    "    # read the source file and convert to at.% -----------------------\n",
    "    df_raw = pd.read_excel(source_file)\n",
    "    # display(df_raw.head())\n",
    "    # copy the df_raw\n",
    "    df_raw_at = df_raw.copy()\n",
    "\n",
    "    df_raw_at['Fe'] = df_raw_at['Fe'] * 100\n",
    "    df_raw_at['Cr'] = df_raw_at['Cr'] * 100\n",
    "    df_raw_at['Ni'] = df_raw_at['Ni'] * 100\n",
    "    df_raw_at[comb[0]] = df_raw_at[comb[0]] * 100\n",
    "    df_raw_at[comb[1]] = df_raw_at[comb[1]] * 100\n",
    "\n",
    "    # display(df_raw_at.head())\n",
    "    # ----------------------------------------------------------------\n",
    "\n",
    "    # read the source file and convert to wt.% -----------------------\n",
    "    df_raw_wt = df_raw.copy()\n",
    "\n",
    "    ele_A = 'Fe'\n",
    "    ele_B = 'Cr'\n",
    "    ele_C = 'Ni'\n",
    "    ele_D = comb[0]\n",
    "    ele_E = comb[1]\n",
    "\n",
    "    ele_all = ['Fe', 'Cr', 'Ni', 'Co', 'V', 'Mn',\n",
    "               'Mo', 'Cu', 'Nb', 'W', 'Ti', 'Al', 'Si', 'Ta']\n",
    "\n",
    "    ele_indices = [ele_all.index(ele)\n",
    "                   for ele in [ele_A, ele_B, ele_C, ele_D, ele_E]]\n",
    "    # print(ele_indices)\n",
    "\n",
    "    # Define the atomic weights of all elements\n",
    "    atomic_wt_all = np.array([55.847, 51.996, 58.70, 58.9332, 50.9415, 54.9380, 95.94, 63.546, 92.9064, 183.85, 47.90,\n",
    "                              26.98154, 28.0855, 180.9479])  # Source: https://www.angelo.edu/faculty/kboudrea/periodic/structure_mass.htm\n",
    "\n",
    "    # Extract the atomic weights of the elements in A, B, C, D, and E\n",
    "    atomic_wt_ABCDE = atomic_wt_all[ele_indices]\n",
    "\n",
    "    # Calculate the total atomic weight of each composition\n",
    "    total_atomic_wt = np.sum(df_raw_wt.loc[:, [\n",
    "        ele_A, ele_B, ele_C, ele_D, ele_E]].values * atomic_wt_ABCDE, axis=1)\n",
    "    # display(total_atomic_wt)\n",
    "\n",
    "    # Calculate the weight percentages of each element for each composition\n",
    "    df_raw_wt.loc[:, ele_A] = df_raw_wt.loc[:, ele_A] * \\\n",
    "        atomic_wt_ABCDE[0] / total_atomic_wt * 100\n",
    "    df_raw_wt.loc[:, ele_B] = df_raw_wt.loc[:, ele_B] * \\\n",
    "        atomic_wt_ABCDE[1] / total_atomic_wt * 100\n",
    "    df_raw_wt.loc[:, ele_C] = df_raw_wt.loc[:, ele_C] * \\\n",
    "        atomic_wt_ABCDE[2] / total_atomic_wt * 100\n",
    "    df_raw_wt.loc[:, ele_D] = df_raw_wt.loc[:, ele_D] * \\\n",
    "        atomic_wt_ABCDE[3] / total_atomic_wt * 100\n",
    "    df_raw_wt.loc[:, ele_E] = df_raw_wt.loc[:, ele_E] * \\\n",
    "        atomic_wt_ABCDE[4] / total_atomic_wt * 100\n",
    "\n",
    "    # display(df_raw_wt.head())\n",
    "    # display(df_raw_wt.tail())\n",
    "    # ----------------------------------------------------------------\n",
    "\n",
    "    # Define the destination directory and to_excel ------------------\n",
    "    dst_subfolder = 'v6_A-B-C-D-E_Sputtering_ML_All'\n",
    "    dst_file_at = os.path.join(\n",
    "        dst_folder, dst_subfolder, 'v6_' + comb_A_B_C_D_E_temp + '_SSS_FCC_byCompo_at_pct.xlsx')\n",
    "    dst_file_wt = os.path.join(\n",
    "        dst_folder, dst_subfolder, 'v6_' + comb_A_B_C_D_E_temp + '_SSS_FCC_byCompo_wt_pct.xlsx')\n",
    "    # print('Destination file directory:', os.path.abspath(dst_file_at))\n",
    "    # print('Destination file directory:', os.path.abspath(dst_file_wt))\n",
    "    df_raw_at.to_excel(dst_file_at, index=False)\n",
    "    df_raw_wt.to_excel(dst_file_wt, index=False)\n",
    "    print(comb_A_B_C_D_E_temp + ': File copied successfully!')\n",
    "    # ----------------------------------------------------------------\n",
    "\n",
    "    # # Copy the file\n",
    "    # try:\n",
    "    #     # Copy the file to the destination directory\n",
    "    #     shutil.copyfile(source_file, dst_file_at)\n",
    "    #     print(comb_A_B_C_D_E_temp + ': File copied successfully!')\n",
    "    #     print(\"\")\n",
    "    # except Exception as e:\n",
    "    #     print('Error copying file: ' + str(e))"
   ]
  }
 ],
 "metadata": {
  "kernelspec": {
   "display_name": "tf-env",
   "language": "python",
   "name": "python3"
  },
  "language_info": {
   "codemirror_mode": {
    "name": "ipython",
    "version": 3
   },
   "file_extension": ".py",
   "mimetype": "text/x-python",
   "name": "python",
   "nbconvert_exporter": "python",
   "pygments_lexer": "ipython3",
   "version": "3.9.16"
  },
  "orig_nbformat": 4
 },
 "nbformat": 4,
 "nbformat_minor": 2
}
