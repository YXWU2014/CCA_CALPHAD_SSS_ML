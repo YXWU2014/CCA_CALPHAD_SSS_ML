{
 "cells": [
  {
   "cell_type": "markdown",
   "metadata": {},
   "source": [
    "## Copy the sampled composition data and prepare for ML-based property calculation\n",
    "\n",
    "The CALPHAD method has been employed for high-throughput calculations, leading to the generation of an extensive set of compositions for analysing phase stability and solid solution strengthening. This script transfers these compositions, saved in Excel format, to a designated folder. Subsequently, these compositions can be evaluated for additional material properties using machine learning models.\n"
   ]
  },
  {
   "cell_type": "code",
   "execution_count": 12,
   "metadata": {},
   "outputs": [
    {
     "name": "stdout",
     "output_type": "stream",
     "text": [
      "Current working directory: /nethome/home3/yuxiang.wu/CCA_CALPHAD_SSS_ML/v6_A-B-C-D-E_Sputtering_ML\n",
      "\n",
      "Source folder: /nethome/home3/yuxiang.wu/CCA_CALPHAD_SSS_ML/v6_A-B-C-D-E_Sputtering\n",
      "Destination folder: /nethome/home3/yuxiang.wu/CCA_CALPHAD_SSS_ML/v6_A-B-C-D-E_Sputtering_ML\n"
     ]
    }
   ],
   "source": [
    "import os\n",
    "import shutil\n",
    "from itertools import combinations\n",
    "import numpy as np\n",
    "import pandas as pd\n",
    "from tqdm import tqdm\n",
    "\n",
    "current_directory = os.getcwd()\n",
    "print(\"Current working directory:\", current_directory)\n",
    "print(\"\")\n",
    "\n",
    "source_folder = '../v6_A-B-C-D-E_Sputtering/'\n",
    "print(\"Source folder:\", os.path.abspath(source_folder))\n",
    "\n",
    "dst_folder = current_directory\n",
    "print(\"Destination folder:\", os.path.abspath(dst_folder))"
   ]
  },
  {
   "cell_type": "code",
   "execution_count": 13,
   "metadata": {},
   "outputs": [
    {
     "name": "stdout",
     "output_type": "stream",
     "text": [
      "('Co', 'V')\n"
     ]
    }
   ],
   "source": [
    "comb_D_E = list(combinations(\n",
    "    ['Co', 'V', 'Mn', 'Mo', 'Cu', 'Nb', 'W', 'Ti', 'Al', 'Si', 'Ta'], 2))\n",
    "print(comb_D_E[0])"
   ]
  },
  {
   "cell_type": "markdown",
   "metadata": {},
   "source": [
    "### Move the CALPHAD generated files to the new folder\n",
    "\n",
    "1. in at% (used in CALPHAD calcualtion)\n",
    "2. in wt% (converted from at% as below)\n"
   ]
  },
  {
   "cell_type": "code",
   "execution_count": 14,
   "metadata": {},
   "outputs": [
    {
     "name": "stderr",
     "output_type": "stream",
     "text": [
      "  0%|          | 0/55 [00:00<?, ?it/s]"
     ]
    },
    {
     "name": "stdout",
     "output_type": "stream",
     "text": [
      "\n",
      "Fe_Cr_Ni_Co_V\n",
      "Fe_Cr_Ni_Co_V: File exists!\n"
     ]
    },
    {
     "name": "stderr",
     "output_type": "stream",
     "text": [
      "  2%|▏         | 1/55 [00:05<04:58,  5.53s/it]"
     ]
    },
    {
     "name": "stdout",
     "output_type": "stream",
     "text": [
      "Fe_Cr_Ni_Co_V: File copied successfully!\n",
      "\n",
      "Fe_Cr_Ni_Co_Mn\n",
      "Fe_Cr_Ni_Co_Mn: File exists!\n"
     ]
    },
    {
     "name": "stderr",
     "output_type": "stream",
     "text": [
      "  4%|▎         | 2/55 [00:10<04:39,  5.28s/it]"
     ]
    },
    {
     "name": "stdout",
     "output_type": "stream",
     "text": [
      "Fe_Cr_Ni_Co_Mn: File copied successfully!\n",
      "\n",
      "Fe_Cr_Ni_Co_Mo\n",
      "Fe_Cr_Ni_Co_Mo: File exists!\n"
     ]
    },
    {
     "name": "stderr",
     "output_type": "stream",
     "text": [
      "  5%|▌         | 3/55 [00:15<04:25,  5.11s/it]"
     ]
    },
    {
     "name": "stdout",
     "output_type": "stream",
     "text": [
      "Fe_Cr_Ni_Co_Mo: File copied successfully!\n",
      "\n",
      "Fe_Cr_Ni_Co_Cu\n",
      "Fe_Cr_Ni_Co_Cu: File exists!\n"
     ]
    },
    {
     "name": "stderr",
     "output_type": "stream",
     "text": [
      "  7%|▋         | 4/55 [00:20<04:19,  5.09s/it]"
     ]
    },
    {
     "name": "stdout",
     "output_type": "stream",
     "text": [
      "Fe_Cr_Ni_Co_Cu: File copied successfully!\n",
      "\n",
      "Fe_Cr_Ni_Co_Nb\n",
      "Fe_Cr_Ni_Co_Nb: File exists!\n"
     ]
    },
    {
     "name": "stderr",
     "output_type": "stream",
     "text": [
      "  9%|▉         | 5/55 [00:25<04:10,  5.02s/it]"
     ]
    },
    {
     "name": "stdout",
     "output_type": "stream",
     "text": [
      "Fe_Cr_Ni_Co_Nb: File copied successfully!\n",
      "\n",
      "Fe_Cr_Ni_Co_W\n",
      "Fe_Cr_Ni_Co_W: File exists!\n"
     ]
    },
    {
     "name": "stderr",
     "output_type": "stream",
     "text": [
      " 11%|█         | 6/55 [00:30<04:05,  5.01s/it]"
     ]
    },
    {
     "name": "stdout",
     "output_type": "stream",
     "text": [
      "Fe_Cr_Ni_Co_W: File copied successfully!\n",
      "\n",
      "Fe_Cr_Ni_Co_Ti\n",
      "Fe_Cr_Ni_Co_Ti: File exists!\n"
     ]
    },
    {
     "name": "stderr",
     "output_type": "stream",
     "text": [
      " 13%|█▎        | 7/55 [00:35<03:59,  4.99s/it]"
     ]
    },
    {
     "name": "stdout",
     "output_type": "stream",
     "text": [
      "Fe_Cr_Ni_Co_Ti: File copied successfully!\n",
      "\n",
      "Fe_Cr_Ni_Co_Al\n",
      "Fe_Cr_Ni_Co_Al: File exists!\n"
     ]
    },
    {
     "name": "stderr",
     "output_type": "stream",
     "text": [
      " 15%|█▍        | 8/55 [00:40<03:54,  4.99s/it]"
     ]
    },
    {
     "name": "stdout",
     "output_type": "stream",
     "text": [
      "Fe_Cr_Ni_Co_Al: File copied successfully!\n",
      "\n",
      "Fe_Cr_Ni_Co_Si\n",
      "Fe_Cr_Ni_Co_Si: File exists!\n"
     ]
    },
    {
     "name": "stderr",
     "output_type": "stream",
     "text": [
      " 16%|█▋        | 9/55 [00:45<03:50,  5.01s/it]"
     ]
    },
    {
     "name": "stdout",
     "output_type": "stream",
     "text": [
      "Fe_Cr_Ni_Co_Si: File copied successfully!\n",
      "\n",
      "Fe_Cr_Ni_Co_Ta\n",
      "Fe_Cr_Ni_Co_Ta: File exists!\n"
     ]
    },
    {
     "name": "stderr",
     "output_type": "stream",
     "text": [
      " 18%|█▊        | 10/55 [00:50<03:45,  5.02s/it]"
     ]
    },
    {
     "name": "stdout",
     "output_type": "stream",
     "text": [
      "Fe_Cr_Ni_Co_Ta: File copied successfully!\n",
      "\n",
      "Fe_Cr_Ni_V_Mn\n",
      "Fe_Cr_Ni_V_Mn: File exists!\n"
     ]
    },
    {
     "name": "stderr",
     "output_type": "stream",
     "text": [
      " 20%|██        | 11/55 [00:55<03:41,  5.04s/it]"
     ]
    },
    {
     "name": "stdout",
     "output_type": "stream",
     "text": [
      "Fe_Cr_Ni_V_Mn: File copied successfully!\n",
      "\n",
      "Fe_Cr_Ni_V_Mo\n",
      "Fe_Cr_Ni_V_Mo: File exists!\n"
     ]
    },
    {
     "name": "stderr",
     "output_type": "stream",
     "text": [
      " 22%|██▏       | 12/55 [01:00<03:36,  5.04s/it]"
     ]
    },
    {
     "name": "stdout",
     "output_type": "stream",
     "text": [
      "Fe_Cr_Ni_V_Mo: File copied successfully!\n",
      "\n",
      "Fe_Cr_Ni_V_Cu\n",
      "Fe_Cr_Ni_V_Cu: File exists!\n"
     ]
    },
    {
     "name": "stderr",
     "output_type": "stream",
     "text": [
      " 24%|██▎       | 13/55 [01:05<03:30,  5.00s/it]"
     ]
    },
    {
     "name": "stdout",
     "output_type": "stream",
     "text": [
      "Fe_Cr_Ni_V_Cu: File copied successfully!\n",
      "\n",
      "Fe_Cr_Ni_V_Nb\n",
      "Fe_Cr_Ni_V_Nb: File exists!\n"
     ]
    },
    {
     "name": "stderr",
     "output_type": "stream",
     "text": [
      " 25%|██▌       | 14/55 [01:10<03:26,  5.05s/it]"
     ]
    },
    {
     "name": "stdout",
     "output_type": "stream",
     "text": [
      "Fe_Cr_Ni_V_Nb: File copied successfully!\n",
      "\n",
      "Fe_Cr_Ni_V_W\n",
      "Fe_Cr_Ni_V_W: File exists!\n"
     ]
    },
    {
     "name": "stderr",
     "output_type": "stream",
     "text": [
      " 27%|██▋       | 15/55 [01:15<03:21,  5.03s/it]"
     ]
    },
    {
     "name": "stdout",
     "output_type": "stream",
     "text": [
      "Fe_Cr_Ni_V_W: File copied successfully!\n",
      "\n",
      "Fe_Cr_Ni_V_Ti\n",
      "Fe_Cr_Ni_V_Ti: File exists!\n"
     ]
    },
    {
     "name": "stderr",
     "output_type": "stream",
     "text": [
      " 29%|██▉       | 16/55 [01:20<03:16,  5.05s/it]"
     ]
    },
    {
     "name": "stdout",
     "output_type": "stream",
     "text": [
      "Fe_Cr_Ni_V_Ti: File copied successfully!\n",
      "\n",
      "Fe_Cr_Ni_V_Al\n",
      "Fe_Cr_Ni_V_Al: File exists!\n"
     ]
    },
    {
     "name": "stderr",
     "output_type": "stream",
     "text": [
      " 31%|███       | 17/55 [01:25<03:12,  5.06s/it]"
     ]
    },
    {
     "name": "stdout",
     "output_type": "stream",
     "text": [
      "Fe_Cr_Ni_V_Al: File copied successfully!\n",
      "\n",
      "Fe_Cr_Ni_V_Si\n",
      "Fe_Cr_Ni_V_Si: File exists!\n"
     ]
    },
    {
     "name": "stderr",
     "output_type": "stream",
     "text": [
      " 33%|███▎      | 18/55 [01:30<03:06,  5.03s/it]"
     ]
    },
    {
     "name": "stdout",
     "output_type": "stream",
     "text": [
      "Fe_Cr_Ni_V_Si: File copied successfully!\n",
      "\n",
      "Fe_Cr_Ni_V_Ta\n",
      "Fe_Cr_Ni_V_Ta: File exists!\n"
     ]
    },
    {
     "name": "stderr",
     "output_type": "stream",
     "text": [
      " 35%|███▍      | 19/55 [01:35<03:01,  5.03s/it]"
     ]
    },
    {
     "name": "stdout",
     "output_type": "stream",
     "text": [
      "Fe_Cr_Ni_V_Ta: File copied successfully!\n",
      "\n",
      "Fe_Cr_Ni_Mn_Mo\n",
      "Fe_Cr_Ni_Mn_Mo: File exists!\n"
     ]
    },
    {
     "name": "stderr",
     "output_type": "stream",
     "text": [
      " 36%|███▋      | 20/55 [01:40<02:56,  5.06s/it]"
     ]
    },
    {
     "name": "stdout",
     "output_type": "stream",
     "text": [
      "Fe_Cr_Ni_Mn_Mo: File copied successfully!\n",
      "\n",
      "Fe_Cr_Ni_Mn_Cu\n",
      "Fe_Cr_Ni_Mn_Cu: File exists!\n"
     ]
    },
    {
     "name": "stderr",
     "output_type": "stream",
     "text": [
      " 38%|███▊      | 21/55 [01:46<02:52,  5.07s/it]"
     ]
    },
    {
     "name": "stdout",
     "output_type": "stream",
     "text": [
      "Fe_Cr_Ni_Mn_Cu: File copied successfully!\n",
      "\n",
      "Fe_Cr_Ni_Mn_Nb\n",
      "Fe_Cr_Ni_Mn_Nb: File exists!\n"
     ]
    },
    {
     "name": "stderr",
     "output_type": "stream",
     "text": [
      " 40%|████      | 22/55 [01:51<02:47,  5.09s/it]"
     ]
    },
    {
     "name": "stdout",
     "output_type": "stream",
     "text": [
      "Fe_Cr_Ni_Mn_Nb: File copied successfully!\n",
      "\n",
      "Fe_Cr_Ni_Mn_W\n",
      "Fe_Cr_Ni_Mn_W: File exists!\n"
     ]
    },
    {
     "name": "stderr",
     "output_type": "stream",
     "text": [
      " 42%|████▏     | 23/55 [01:56<02:41,  5.05s/it]"
     ]
    },
    {
     "name": "stdout",
     "output_type": "stream",
     "text": [
      "Fe_Cr_Ni_Mn_W: File copied successfully!\n",
      "\n",
      "Fe_Cr_Ni_Mn_Ti\n",
      "Fe_Cr_Ni_Mn_Ti: File exists!\n"
     ]
    },
    {
     "name": "stderr",
     "output_type": "stream",
     "text": [
      " 44%|████▎     | 24/55 [02:01<02:39,  5.15s/it]"
     ]
    },
    {
     "name": "stdout",
     "output_type": "stream",
     "text": [
      "Fe_Cr_Ni_Mn_Ti: File copied successfully!\n",
      "\n",
      "Fe_Cr_Ni_Mn_Al\n",
      "Fe_Cr_Ni_Mn_Al: File exists!\n"
     ]
    },
    {
     "name": "stderr",
     "output_type": "stream",
     "text": [
      " 45%|████▌     | 25/55 [02:06<02:35,  5.17s/it]"
     ]
    },
    {
     "name": "stdout",
     "output_type": "stream",
     "text": [
      "Fe_Cr_Ni_Mn_Al: File copied successfully!\n",
      "\n",
      "Fe_Cr_Ni_Mn_Si\n",
      "Fe_Cr_Ni_Mn_Si: File exists!\n"
     ]
    },
    {
     "name": "stderr",
     "output_type": "stream",
     "text": [
      " 47%|████▋     | 26/55 [02:11<02:30,  5.17s/it]"
     ]
    },
    {
     "name": "stdout",
     "output_type": "stream",
     "text": [
      "Fe_Cr_Ni_Mn_Si: File copied successfully!\n",
      "\n",
      "Fe_Cr_Ni_Mn_Ta\n",
      "Fe_Cr_Ni_Mn_Ta: File exists!\n"
     ]
    },
    {
     "name": "stderr",
     "output_type": "stream",
     "text": [
      " 49%|████▉     | 27/55 [02:17<02:27,  5.25s/it]"
     ]
    },
    {
     "name": "stdout",
     "output_type": "stream",
     "text": [
      "Fe_Cr_Ni_Mn_Ta: File copied successfully!\n",
      "\n",
      "Fe_Cr_Ni_Mo_Cu\n",
      "Fe_Cr_Ni_Mo_Cu: File exists!\n"
     ]
    },
    {
     "name": "stderr",
     "output_type": "stream",
     "text": [
      " 51%|█████     | 28/55 [02:22<02:18,  5.14s/it]"
     ]
    },
    {
     "name": "stdout",
     "output_type": "stream",
     "text": [
      "Fe_Cr_Ni_Mo_Cu: File copied successfully!\n",
      "\n",
      "Fe_Cr_Ni_Mo_Nb\n",
      "Fe_Cr_Ni_Mo_Nb: File exists!\n"
     ]
    },
    {
     "name": "stderr",
     "output_type": "stream",
     "text": [
      " 53%|█████▎    | 29/55 [02:27<02:13,  5.15s/it]"
     ]
    },
    {
     "name": "stdout",
     "output_type": "stream",
     "text": [
      "Fe_Cr_Ni_Mo_Nb: File copied successfully!\n",
      "\n",
      "Fe_Cr_Ni_Mo_W\n",
      "Fe_Cr_Ni_Mo_W: File exists!\n"
     ]
    },
    {
     "name": "stderr",
     "output_type": "stream",
     "text": [
      " 55%|█████▍    | 30/55 [02:32<02:08,  5.14s/it]"
     ]
    },
    {
     "name": "stdout",
     "output_type": "stream",
     "text": [
      "Fe_Cr_Ni_Mo_W: File copied successfully!\n",
      "\n",
      "Fe_Cr_Ni_Mo_Ti\n",
      "Fe_Cr_Ni_Mo_Ti: File exists!\n"
     ]
    },
    {
     "name": "stderr",
     "output_type": "stream",
     "text": [
      " 56%|█████▋    | 31/55 [02:37<02:04,  5.18s/it]"
     ]
    },
    {
     "name": "stdout",
     "output_type": "stream",
     "text": [
      "Fe_Cr_Ni_Mo_Ti: File copied successfully!\n",
      "\n",
      "Fe_Cr_Ni_Mo_Al\n",
      "Fe_Cr_Ni_Mo_Al: File exists!\n"
     ]
    },
    {
     "name": "stderr",
     "output_type": "stream",
     "text": [
      " 58%|█████▊    | 32/55 [02:43<02:00,  5.26s/it]"
     ]
    },
    {
     "name": "stdout",
     "output_type": "stream",
     "text": [
      "Fe_Cr_Ni_Mo_Al: File copied successfully!\n",
      "\n",
      "Fe_Cr_Ni_Mo_Si\n",
      "Fe_Cr_Ni_Mo_Si: File exists!\n"
     ]
    },
    {
     "name": "stderr",
     "output_type": "stream",
     "text": [
      " 60%|██████    | 33/55 [02:48<01:53,  5.17s/it]"
     ]
    },
    {
     "name": "stdout",
     "output_type": "stream",
     "text": [
      "Fe_Cr_Ni_Mo_Si: File copied successfully!\n",
      "\n",
      "Fe_Cr_Ni_Mo_Ta\n",
      "Fe_Cr_Ni_Mo_Ta: File exists!\n"
     ]
    },
    {
     "name": "stderr",
     "output_type": "stream",
     "text": [
      " 62%|██████▏   | 34/55 [02:53<01:48,  5.18s/it]"
     ]
    },
    {
     "name": "stdout",
     "output_type": "stream",
     "text": [
      "Fe_Cr_Ni_Mo_Ta: File copied successfully!\n",
      "\n",
      "Fe_Cr_Ni_Cu_Nb\n",
      "Fe_Cr_Ni_Cu_Nb: File exists!\n"
     ]
    },
    {
     "name": "stderr",
     "output_type": "stream",
     "text": [
      " 64%|██████▎   | 35/55 [02:58<01:42,  5.15s/it]"
     ]
    },
    {
     "name": "stdout",
     "output_type": "stream",
     "text": [
      "Fe_Cr_Ni_Cu_Nb: File copied successfully!\n",
      "\n",
      "Fe_Cr_Ni_Cu_W\n",
      "Fe_Cr_Ni_Cu_W: File exists!\n"
     ]
    },
    {
     "name": "stderr",
     "output_type": "stream",
     "text": [
      " 65%|██████▌   | 36/55 [03:03<01:36,  5.10s/it]"
     ]
    },
    {
     "name": "stdout",
     "output_type": "stream",
     "text": [
      "Fe_Cr_Ni_Cu_W: File copied successfully!\n",
      "\n",
      "Fe_Cr_Ni_Cu_Ti\n",
      "Fe_Cr_Ni_Cu_Ti: File exists!\n"
     ]
    },
    {
     "name": "stderr",
     "output_type": "stream",
     "text": [
      " 67%|██████▋   | 37/55 [03:08<01:31,  5.10s/it]"
     ]
    },
    {
     "name": "stdout",
     "output_type": "stream",
     "text": [
      "Fe_Cr_Ni_Cu_Ti: File copied successfully!\n",
      "\n",
      "Fe_Cr_Ni_Cu_Al\n",
      "Fe_Cr_Ni_Cu_Al: File exists!\n"
     ]
    },
    {
     "name": "stderr",
     "output_type": "stream",
     "text": [
      " 69%|██████▉   | 38/55 [03:13<01:26,  5.08s/it]"
     ]
    },
    {
     "name": "stdout",
     "output_type": "stream",
     "text": [
      "Fe_Cr_Ni_Cu_Al: File copied successfully!\n",
      "\n",
      "Fe_Cr_Ni_Cu_Si\n",
      "Fe_Cr_Ni_Cu_Si: File exists!\n"
     ]
    },
    {
     "name": "stderr",
     "output_type": "stream",
     "text": [
      " 71%|███████   | 39/55 [03:18<01:20,  5.06s/it]"
     ]
    },
    {
     "name": "stdout",
     "output_type": "stream",
     "text": [
      "Fe_Cr_Ni_Cu_Si: File copied successfully!\n",
      "\n",
      "Fe_Cr_Ni_Cu_Ta\n",
      "Fe_Cr_Ni_Cu_Ta: File exists!\n"
     ]
    },
    {
     "name": "stderr",
     "output_type": "stream",
     "text": [
      " 73%|███████▎  | 40/55 [03:23<01:16,  5.07s/it]"
     ]
    },
    {
     "name": "stdout",
     "output_type": "stream",
     "text": [
      "Fe_Cr_Ni_Cu_Ta: File copied successfully!\n",
      "\n",
      "Fe_Cr_Ni_Nb_W\n",
      "Fe_Cr_Ni_Nb_W: File exists!\n"
     ]
    },
    {
     "name": "stderr",
     "output_type": "stream",
     "text": [
      " 75%|███████▍  | 41/55 [03:28<01:11,  5.12s/it]"
     ]
    },
    {
     "name": "stdout",
     "output_type": "stream",
     "text": [
      "Fe_Cr_Ni_Nb_W: File copied successfully!\n",
      "\n",
      "Fe_Cr_Ni_Nb_Ti\n",
      "Fe_Cr_Ni_Nb_Ti: File exists!\n"
     ]
    },
    {
     "name": "stderr",
     "output_type": "stream",
     "text": [
      " 76%|███████▋  | 42/55 [03:34<01:06,  5.11s/it]"
     ]
    },
    {
     "name": "stdout",
     "output_type": "stream",
     "text": [
      "Fe_Cr_Ni_Nb_Ti: File copied successfully!\n",
      "\n",
      "Fe_Cr_Ni_Nb_Al\n",
      "Fe_Cr_Ni_Nb_Al: File exists!\n"
     ]
    },
    {
     "name": "stderr",
     "output_type": "stream",
     "text": [
      " 78%|███████▊  | 43/55 [03:39<01:02,  5.17s/it]"
     ]
    },
    {
     "name": "stdout",
     "output_type": "stream",
     "text": [
      "Fe_Cr_Ni_Nb_Al: File copied successfully!\n",
      "\n",
      "Fe_Cr_Ni_Nb_Si\n",
      "Fe_Cr_Ni_Nb_Si: File exists!\n"
     ]
    },
    {
     "name": "stderr",
     "output_type": "stream",
     "text": [
      " 80%|████████  | 44/55 [03:44<00:56,  5.11s/it]"
     ]
    },
    {
     "name": "stdout",
     "output_type": "stream",
     "text": [
      "Fe_Cr_Ni_Nb_Si: File copied successfully!\n",
      "\n",
      "Fe_Cr_Ni_Nb_Ta\n",
      "Fe_Cr_Ni_Nb_Ta: File exists!\n"
     ]
    },
    {
     "name": "stderr",
     "output_type": "stream",
     "text": [
      " 82%|████████▏ | 45/55 [03:49<00:51,  5.11s/it]"
     ]
    },
    {
     "name": "stdout",
     "output_type": "stream",
     "text": [
      "Fe_Cr_Ni_Nb_Ta: File copied successfully!\n",
      "\n",
      "Fe_Cr_Ni_W_Ti\n",
      "Fe_Cr_Ni_W_Ti: File exists!\n"
     ]
    },
    {
     "name": "stderr",
     "output_type": "stream",
     "text": [
      " 84%|████████▎ | 46/55 [03:54<00:45,  5.10s/it]"
     ]
    },
    {
     "name": "stdout",
     "output_type": "stream",
     "text": [
      "Fe_Cr_Ni_W_Ti: File copied successfully!\n",
      "\n",
      "Fe_Cr_Ni_W_Al\n",
      "Fe_Cr_Ni_W_Al: File exists!\n"
     ]
    },
    {
     "name": "stderr",
     "output_type": "stream",
     "text": [
      " 85%|████████▌ | 47/55 [03:59<00:41,  5.13s/it]"
     ]
    },
    {
     "name": "stdout",
     "output_type": "stream",
     "text": [
      "Fe_Cr_Ni_W_Al: File copied successfully!\n",
      "\n",
      "Fe_Cr_Ni_W_Si\n",
      "Fe_Cr_Ni_W_Si: File exists!\n"
     ]
    },
    {
     "name": "stderr",
     "output_type": "stream",
     "text": [
      " 87%|████████▋ | 48/55 [04:04<00:35,  5.12s/it]"
     ]
    },
    {
     "name": "stdout",
     "output_type": "stream",
     "text": [
      "Fe_Cr_Ni_W_Si: File copied successfully!\n",
      "\n",
      "Fe_Cr_Ni_W_Ta\n",
      "Fe_Cr_Ni_W_Ta: File exists!\n"
     ]
    },
    {
     "name": "stderr",
     "output_type": "stream",
     "text": [
      " 89%|████████▉ | 49/55 [04:10<00:30,  5.17s/it]"
     ]
    },
    {
     "name": "stdout",
     "output_type": "stream",
     "text": [
      "Fe_Cr_Ni_W_Ta: File copied successfully!\n",
      "\n",
      "Fe_Cr_Ni_Ti_Al\n",
      "Fe_Cr_Ni_Ti_Al: File exists!\n"
     ]
    },
    {
     "name": "stderr",
     "output_type": "stream",
     "text": [
      " 91%|█████████ | 50/55 [04:15<00:25,  5.14s/it]"
     ]
    },
    {
     "name": "stdout",
     "output_type": "stream",
     "text": [
      "Fe_Cr_Ni_Ti_Al: File copied successfully!\n",
      "\n",
      "Fe_Cr_Ni_Ti_Si\n",
      "Fe_Cr_Ni_Ti_Si: File exists!\n"
     ]
    },
    {
     "name": "stderr",
     "output_type": "stream",
     "text": [
      " 93%|█████████▎| 51/55 [04:20<00:20,  5.13s/it]"
     ]
    },
    {
     "name": "stdout",
     "output_type": "stream",
     "text": [
      "Fe_Cr_Ni_Ti_Si: File copied successfully!\n",
      "\n",
      "Fe_Cr_Ni_Ti_Ta\n",
      "Fe_Cr_Ni_Ti_Ta: File exists!\n"
     ]
    },
    {
     "name": "stderr",
     "output_type": "stream",
     "text": [
      " 95%|█████████▍| 52/55 [04:25<00:15,  5.13s/it]"
     ]
    },
    {
     "name": "stdout",
     "output_type": "stream",
     "text": [
      "Fe_Cr_Ni_Ti_Ta: File copied successfully!\n",
      "\n",
      "Fe_Cr_Ni_Al_Si\n",
      "Fe_Cr_Ni_Al_Si: File exists!\n"
     ]
    },
    {
     "name": "stderr",
     "output_type": "stream",
     "text": [
      " 96%|█████████▋| 53/55 [04:30<00:10,  5.12s/it]"
     ]
    },
    {
     "name": "stdout",
     "output_type": "stream",
     "text": [
      "Fe_Cr_Ni_Al_Si: File copied successfully!\n",
      "\n",
      "Fe_Cr_Ni_Al_Ta\n",
      "Fe_Cr_Ni_Al_Ta: File exists!\n"
     ]
    },
    {
     "name": "stderr",
     "output_type": "stream",
     "text": [
      " 98%|█████████▊| 54/55 [04:35<00:05,  5.15s/it]"
     ]
    },
    {
     "name": "stdout",
     "output_type": "stream",
     "text": [
      "Fe_Cr_Ni_Al_Ta: File copied successfully!\n",
      "\n",
      "Fe_Cr_Ni_Si_Ta\n",
      "Fe_Cr_Ni_Si_Ta: File exists!\n"
     ]
    },
    {
     "name": "stderr",
     "output_type": "stream",
     "text": [
      "100%|██████████| 55/55 [04:40<00:00,  5.11s/it]"
     ]
    },
    {
     "name": "stdout",
     "output_type": "stream",
     "text": [
      "Fe_Cr_Ni_Si_Ta: File copied successfully!\n"
     ]
    },
    {
     "name": "stderr",
     "output_type": "stream",
     "text": [
      "\n"
     ]
    }
   ],
   "source": [
    "for comb in tqdm(comb_D_E):\n",
    "\n",
    "    comb_A_B_C_D_E_temp = 'Fe_Cr_Ni_' + comb[0] + '_' + comb[1]\n",
    "    print(\"\")\n",
    "    print(comb_A_B_C_D_E_temp)\n",
    "\n",
    "    # Define the source directory -----------------------------------\n",
    "    source_subfolder = 'v6_' + comb_A_B_C_D_E_temp + '_Sputtering'\n",
    "    source_file = os.path.join(\n",
    "        source_folder, source_subfolder, 'SSS_FCC_byCompo.xlsx')\n",
    "\n",
    "    # print('Source file directory:', os.path.abspath(source_file))\n",
    "\n",
    "    if os.path.isfile(source_file):\n",
    "        print(comb_A_B_C_D_E_temp + ': Source file exists!')\n",
    "    else:\n",
    "        print(comb_A_B_C_D_E_temp + ': Source file does not exist.')\n",
    "    # ----------------------------------------------------------------\n",
    "\n",
    "    # read the source file and convert to at.% -----------------------\n",
    "    df_raw = pd.read_excel(source_file)\n",
    "    # display(df_raw.head())\n",
    "    # copy the df_raw\n",
    "    df_raw_at = df_raw.copy()\n",
    "\n",
    "    df_raw_at['Fe'] = df_raw_at['Fe'] * 100\n",
    "    df_raw_at['Cr'] = df_raw_at['Cr'] * 100\n",
    "    df_raw_at['Ni'] = df_raw_at['Ni'] * 100\n",
    "    df_raw_at[comb[0]] = df_raw_at[comb[0]] * 100\n",
    "    df_raw_at[comb[1]] = df_raw_at[comb[1]] * 100\n",
    "\n",
    "    # display(df_raw_at.head())\n",
    "    # ----------------------------------------------------------------\n",
    "\n",
    "    # read the source file and convert to wt.% -----------------------\n",
    "    df_raw_wt = df_raw.copy()\n",
    "\n",
    "    ele_A = 'Fe'\n",
    "    ele_B = 'Cr'\n",
    "    ele_C = 'Ni'\n",
    "    ele_D = comb[0]\n",
    "    ele_E = comb[1]\n",
    "\n",
    "    ele_all = ['Fe', 'Cr', 'Ni', 'Co', 'V', 'Mn',\n",
    "               'Mo', 'Cu', 'Nb', 'W', 'Ti', 'Al', 'Si', 'Ta']\n",
    "\n",
    "    ele_indices = [ele_all.index(ele)\n",
    "                   for ele in [ele_A, ele_B, ele_C, ele_D, ele_E]]\n",
    "    # print(ele_indices)\n",
    "\n",
    "    # Define the atomic weights of all elements\n",
    "    atomic_wt_all = np.array([55.847, 51.996, 58.70, 58.9332, 50.9415, 54.9380, 95.94, 63.546, 92.9064, 183.85, 47.90,\n",
    "                              26.98154, 28.0855, 180.9479])  # Source: https://www.angelo.edu/faculty/kboudrea/periodic/structure_mass.htm\n",
    "\n",
    "    # Extract the atomic weights of the elements in A, B, C, D, and E\n",
    "    atomic_wt_ABCDE = atomic_wt_all[ele_indices]\n",
    "\n",
    "    # Calculate the total atomic weight of each composition\n",
    "    total_atomic_wt = np.sum(df_raw_wt.loc[:, [\n",
    "        ele_A, ele_B, ele_C, ele_D, ele_E]].values * atomic_wt_ABCDE, axis=1)\n",
    "    # display(total_atomic_wt)\n",
    "\n",
    "    # Calculate the weight percentages of each element for each composition\n",
    "    df_raw_wt.loc[:, ele_A] = df_raw_wt.loc[:, ele_A] * \\\n",
    "        atomic_wt_ABCDE[0] / total_atomic_wt * 100\n",
    "    df_raw_wt.loc[:, ele_B] = df_raw_wt.loc[:, ele_B] * \\\n",
    "        atomic_wt_ABCDE[1] / total_atomic_wt * 100\n",
    "    df_raw_wt.loc[:, ele_C] = df_raw_wt.loc[:, ele_C] * \\\n",
    "        atomic_wt_ABCDE[2] / total_atomic_wt * 100\n",
    "    df_raw_wt.loc[:, ele_D] = df_raw_wt.loc[:, ele_D] * \\\n",
    "        atomic_wt_ABCDE[3] / total_atomic_wt * 100\n",
    "    df_raw_wt.loc[:, ele_E] = df_raw_wt.loc[:, ele_E] * \\\n",
    "        atomic_wt_ABCDE[4] / total_atomic_wt * 100\n",
    "\n",
    "    # display(df_raw_wt.head())\n",
    "    # display(df_raw_wt.tail())\n",
    "    # ----------------------------------------------------------------\n",
    "\n",
    "    # Define the destination directory and to_excel ------------------\n",
    "    dst_subfolder = 'v6_A-B-C-D-E_Sputtering_ML_All_Calc'\n",
    "    dst_file_at = os.path.join(\n",
    "        dst_folder, dst_subfolder, 'v6_' + comb_A_B_C_D_E_temp + '_SSS_FCC_byCompo_at_pct.xlsx')\n",
    "    dst_file_wt = os.path.join(\n",
    "        dst_folder, dst_subfolder, 'v6_' + comb_A_B_C_D_E_temp + '_SSS_FCC_byCompo_wt_pct.xlsx')\n",
    "    # print('Destination file directory:', os.path.abspath(dst_file_at))\n",
    "    # print('Destination file directory:', os.path.abspath(dst_file_wt))\n",
    "    df_raw_at.to_excel(dst_file_at, index=False)\n",
    "    df_raw_wt.to_excel(dst_file_wt, index=False)\n",
    "    print(comb_A_B_C_D_E_temp + ': File copied successfully!')\n",
    "    # ----------------------------------------------------------------\n",
    "\n",
    "    # # Copy the file\n",
    "    # try:\n",
    "    #     # Copy the file to the destination directory\n",
    "    #     shutil.copyfile(source_file, dst_file_at)\n",
    "    #     print(comb_A_B_C_D_E_temp + ': File copied successfully!')\n",
    "    #     print(\"\")\n",
    "    # except Exception as e:\n",
    "    #     print('Error copying file: ' + str(e))"
   ]
  },
  {
   "cell_type": "markdown",
   "metadata": {},
   "source": [
    "### Removing unwanted files\n"
   ]
  },
  {
   "cell_type": "code",
   "execution_count": 1,
   "metadata": {},
   "outputs": [
    {
     "name": "stdout",
     "output_type": "stream",
     "text": [
      "Deleting file: ./v6_A-B-C-D-E_Sputtering_ML_All_Calc/v6_Fe_Cr_Ni_Cu_Ti_SSS_FCC_byCompo_wt_pct_ML_fcc.xlsx\n",
      "Deleting file: ./v6_A-B-C-D-E_Sputtering_ML_All_Calc/v6_Fe_Cr_Ni_Nb_Ta_SSS_FCC_byCompo_wt_pct_ML_fcc.xlsx\n",
      "Deleting file: ./v6_A-B-C-D-E_Sputtering_ML_All_Calc/v6_Fe_Cr_Ni_Si_Ta_SSS_FCC_byCompo_wt_pct_ML_fcc.xlsx\n",
      "Deleting file: ./v6_A-B-C-D-E_Sputtering_ML_All_Calc/v6_Fe_Cr_Ni_Co_Nb_SSS_FCC_byCompo_wt_pct_ML_fcc.xlsx\n",
      "Deleting file: ./v6_A-B-C-D-E_Sputtering_ML_All_Calc/v6_Fe_Cr_Ni_V_Ta_SSS_FCC_byCompo_wt_pct_ML_fcc.xlsx\n",
      "Deleting file: ./v6_A-B-C-D-E_Sputtering_ML_All_Calc/v6_Fe_Cr_Ni_W_Ta_SSS_FCC_byCompo_wt_pct_ML_fcc.xlsx\n",
      "Deleting file: ./v6_A-B-C-D-E_Sputtering_ML_All_Calc/v6_Fe_Cr_Ni_Co_Ti_SSS_FCC_byCompo_wt_pct_ML_fcc.xlsx\n",
      "Deleting file: ./v6_A-B-C-D-E_Sputtering_ML_All_Calc/v6_Fe_Cr_Ni_Cu_Al_SSS_FCC_byCompo_wt_pct_ML_fcc.xlsx\n",
      "Deleting file: ./v6_A-B-C-D-E_Sputtering_ML_All_Calc/v6_Fe_Cr_Ni_Co_Mo_SSS_FCC_byCompo_wt_pct_ML_fcc.xlsx\n",
      "Deleting file: ./v6_A-B-C-D-E_Sputtering_ML_All_Calc/v6_Fe_Cr_Ni_V_Mn_SSS_FCC_byCompo_wt_pct_ML_fcc.xlsx\n",
      "Deleting file: ./v6_A-B-C-D-E_Sputtering_ML_All_Calc/v6_Fe_Cr_Ni_V_Cu_SSS_FCC_byCompo_wt_pct_ML_fcc.xlsx\n",
      "Deleting file: ./v6_A-B-C-D-E_Sputtering_ML_All_Calc/v6_Fe_Cr_Ni_Mn_W_SSS_FCC_byCompo_wt_pct_ML_fcc.xlsx\n",
      "Deleting file: ./v6_A-B-C-D-E_Sputtering_ML_All_Calc/v6_Fe_Cr_Ni_Al_Ta_SSS_FCC_byCompo_wt_pct_ML_fcc.xlsx\n",
      "Deleting file: ./v6_A-B-C-D-E_Sputtering_ML_All_Calc/v6_Fe_Cr_Ni_Co_Al_SSS_FCC_byCompo_wt_pct_ML_fcc.xlsx\n",
      "Deleting file: ./v6_A-B-C-D-E_Sputtering_ML_All_Calc/v6_Fe_Cr_Ni_Nb_Ti_SSS_FCC_byCompo_wt_pct_ML_fcc.xlsx\n",
      "Deleting file: ./v6_A-B-C-D-E_Sputtering_ML_All_Calc/v6_Fe_Cr_Ni_Mn_Ti_SSS_FCC_byCompo_wt_pct_ML_fcc.xlsx\n",
      "Deleting file: ./v6_A-B-C-D-E_Sputtering_ML_All_Calc/v6_Fe_Cr_Ni_V_Mo_SSS_FCC_byCompo_wt_pct_ML_fcc.xlsx\n",
      "Deleting file: ./v6_A-B-C-D-E_Sputtering_ML_All_Calc/v6_Fe_Cr_Ni_Cu_W_SSS_FCC_byCompo_wt_pct_ML_fcc.xlsx\n",
      "Deleting file: ./v6_A-B-C-D-E_Sputtering_ML_All_Calc/v6_Fe_Cr_Ni_Mo_Si_SSS_FCC_byCompo_wt_pct_ML_fcc.xlsx\n",
      "Deleting file: ./v6_A-B-C-D-E_Sputtering_ML_All_Calc/v6_Fe_Cr_Ni_Co_V_SSS_FCC_byCompo_wt_pct_ML_fcc.xlsx\n",
      "Deleting file: ./v6_A-B-C-D-E_Sputtering_ML_All_Calc/v6_Fe_Cr_Ni_Mn_Nb_SSS_FCC_byCompo_wt_pct_ML_fcc.xlsx\n",
      "Deleting file: ./v6_A-B-C-D-E_Sputtering_ML_All_Calc/v6_Fe_Cr_Ni_Ti_Si_SSS_FCC_byCompo_wt_pct_ML_fcc.xlsx\n",
      "Deleting file: ./v6_A-B-C-D-E_Sputtering_ML_All_Calc/v6_Fe_Cr_Ni_Mo_Cu_SSS_FCC_byCompo_wt_pct_ML_fcc.xlsx\n",
      "Deleting file: ./v6_A-B-C-D-E_Sputtering_ML_All_Calc/v6_Fe_Cr_Ni_Ti_Al_SSS_FCC_byCompo_wt_pct_ML_fcc.xlsx\n",
      "Deleting file: ./v6_A-B-C-D-E_Sputtering_ML_All_Calc/v6_Fe_Cr_Ni_Co_Si_SSS_FCC_byCompo_wt_pct_ML_fcc.xlsx\n",
      "Deleting file: ./v6_A-B-C-D-E_Sputtering_ML_All_Calc/v6_Fe_Cr_Ni_W_Al_SSS_FCC_byCompo_wt_pct_ML_fcc.xlsx\n",
      "Deleting file: ./v6_A-B-C-D-E_Sputtering_ML_All_Calc/v6_Fe_Cr_Ni_Mn_Ta_SSS_FCC_byCompo_wt_pct_ML_fcc.xlsx\n",
      "Deleting file: ./v6_A-B-C-D-E_Sputtering_ML_All_Calc/v6_Fe_Cr_Ni_Mn_Mo_SSS_FCC_byCompo_wt_pct_ML_fcc.xlsx\n",
      "Deleting file: ./v6_A-B-C-D-E_Sputtering_ML_All_Calc/v6_Fe_Cr_Ni_Ti_Ta_SSS_FCC_byCompo_wt_pct_ML_fcc.xlsx\n",
      "Deleting file: ./v6_A-B-C-D-E_Sputtering_ML_All_Calc/v6_Fe_Cr_Ni_Nb_Al_SSS_FCC_byCompo_wt_pct_ML_fcc.xlsx\n",
      "Deleting file: ./v6_A-B-C-D-E_Sputtering_ML_All_Calc/v6_Fe_Cr_Ni_Co_Ta_SSS_FCC_byCompo_wt_pct_ML_fcc.xlsx\n",
      "Deleting file: ./v6_A-B-C-D-E_Sputtering_ML_All_Calc/v6_Fe_Cr_Ni_Mo_W_SSS_FCC_byCompo_wt_pct_ML_fcc.xlsx\n",
      "Deleting file: ./v6_A-B-C-D-E_Sputtering_ML_All_Calc/v6_Fe_Cr_Ni_Nb_Si_SSS_FCC_byCompo_wt_pct_ML_fcc.xlsx\n",
      "Deleting file: ./v6_A-B-C-D-E_Sputtering_ML_All_Calc/v6_Fe_Cr_Ni_Mn_Al_SSS_FCC_byCompo_wt_pct_ML_fcc.xlsx\n",
      "Deleting file: ./v6_A-B-C-D-E_Sputtering_ML_All_Calc/v6_Fe_Cr_Ni_Mn_Cu_SSS_FCC_byCompo_wt_pct_ML_fcc.xlsx\n",
      "Deleting file: ./v6_A-B-C-D-E_Sputtering_ML_All_Calc/v6_Fe_Cr_Ni_Co_Cu_SSS_FCC_byCompo_wt_pct_ML_fcc.xlsx\n",
      "Deleting file: ./v6_A-B-C-D-E_Sputtering_ML_All_Calc/v6_Fe_Cr_Ni_V_W_SSS_FCC_byCompo_wt_pct_ML_fcc.xlsx\n",
      "Deleting file: ./v6_A-B-C-D-E_Sputtering_ML_All_Calc/v6_Fe_Cr_Ni_Co_Mn_SSS_FCC_byCompo_wt_pct_ML_fcc.xlsx\n",
      "Deleting file: ./v6_A-B-C-D-E_Sputtering_ML_All_Calc/v6_Fe_Cr_Ni_Nb_W_SSS_FCC_byCompo_wt_pct_ML_fcc.xlsx\n",
      "Deleting file: ./v6_A-B-C-D-E_Sputtering_ML_All_Calc/v6_Fe_Cr_Ni_Co_W_SSS_FCC_byCompo_wt_pct_ML_fcc.xlsx\n",
      "Deleting file: ./v6_A-B-C-D-E_Sputtering_ML_All_Calc/v6_Fe_Cr_Ni_Cu_Nb_SSS_FCC_byCompo_wt_pct_ML_fcc.xlsx\n",
      "Deleting file: ./v6_A-B-C-D-E_Sputtering_ML_All_Calc/v6_Fe_Cr_Ni_V_Nb_SSS_FCC_byCompo_wt_pct_ML_fcc.xlsx\n",
      "Deleting file: ./v6_A-B-C-D-E_Sputtering_ML_All_Calc/v6_Fe_Cr_Ni_Mn_Si_SSS_FCC_byCompo_wt_pct_ML_fcc.xlsx\n",
      "Deleting file: ./v6_A-B-C-D-E_Sputtering_ML_All_Calc/v6_Fe_Cr_Ni_Mo_Ta_SSS_FCC_byCompo_wt_pct_ML_fcc.xlsx\n",
      "Deleting file: ./v6_A-B-C-D-E_Sputtering_ML_All_Calc/v6_Fe_Cr_Ni_Mo_Nb_SSS_FCC_byCompo_wt_pct_ML_fcc.xlsx\n",
      "Deleting file: ./v6_A-B-C-D-E_Sputtering_ML_All_Calc/v6_Fe_Cr_Ni_Cu_Si_SSS_FCC_byCompo_wt_pct_ML_fcc.xlsx\n",
      "Deleting file: ./v6_A-B-C-D-E_Sputtering_ML_All_Calc/v6_Fe_Cr_Ni_V_Si_SSS_FCC_byCompo_wt_pct_ML_fcc.xlsx\n",
      "Deleting file: ./v6_A-B-C-D-E_Sputtering_ML_All_Calc/v6_Fe_Cr_Ni_V_Ti_SSS_FCC_byCompo_wt_pct_ML_fcc.xlsx\n",
      "Deleting file: ./v6_A-B-C-D-E_Sputtering_ML_All_Calc/v6_Fe_Cr_Ni_Al_Si_SSS_FCC_byCompo_wt_pct_ML_fcc.xlsx\n",
      "Deleting file: ./v6_A-B-C-D-E_Sputtering_ML_All_Calc/v6_Fe_Cr_Ni_Mo_Al_SSS_FCC_byCompo_wt_pct_ML_fcc.xlsx\n",
      "Deleting file: ./v6_A-B-C-D-E_Sputtering_ML_All_Calc/v6_Fe_Cr_Ni_V_Al_SSS_FCC_byCompo_wt_pct_ML_fcc.xlsx\n",
      "Deleting file: ./v6_A-B-C-D-E_Sputtering_ML_All_Calc/v6_Fe_Cr_Ni_W_Si_SSS_FCC_byCompo_wt_pct_ML_fcc.xlsx\n",
      "Deleting file: ./v6_A-B-C-D-E_Sputtering_ML_All_Calc/v6_Fe_Cr_Ni_Mo_Ti_SSS_FCC_byCompo_wt_pct_ML_fcc.xlsx\n",
      "Deleting file: ./v6_A-B-C-D-E_Sputtering_ML_All_Calc/v6_Fe_Cr_Ni_W_Ti_SSS_FCC_byCompo_wt_pct_ML_fcc.xlsx\n",
      "Deleting file: ./v6_A-B-C-D-E_Sputtering_ML_All_Calc/v6_Fe_Cr_Ni_Cu_Ta_SSS_FCC_byCompo_wt_pct_ML_fcc.xlsx\n",
      "Deletion of specified files is complete.\n"
     ]
    }
   ],
   "source": [
    "# import os\n",
    "# import glob\n",
    "\n",
    "# # Define the root directory where the subdirectories are located\n",
    "# root_dir = './v6_A-B-C-D-E_Sputtering_ML_All_Calc'\n",
    "\n",
    "# # Walk through the directory\n",
    "# for subdir, dirs, files in os.walk(root_dir):\n",
    "#     for file in files:\n",
    "#         # Check if the file ends with 'at_pct_ML.xlsx'\n",
    "#         if file.endswith('wt_pct_ML_fcc.xlsx'):\n",
    "#             file_path = os.path.join(subdir, file)\n",
    "#             print(f\"Deleting file: {file_path}\")\n",
    "#             os.remove(file_path)\n",
    "\n",
    "# print(\"Deletion of specified files is complete.\")"
   ]
  }
 ],
 "metadata": {
  "kernelspec": {
   "display_name": "tf-env",
   "language": "python",
   "name": "python3"
  },
  "language_info": {
   "codemirror_mode": {
    "name": "ipython",
    "version": 3
   },
   "file_extension": ".py",
   "mimetype": "text/x-python",
   "name": "python",
   "nbconvert_exporter": "python",
   "pygments_lexer": "ipython3",
   "version": "3.9.16"
  },
  "orig_nbformat": 4
 },
 "nbformat": 4,
 "nbformat_minor": 2
}
